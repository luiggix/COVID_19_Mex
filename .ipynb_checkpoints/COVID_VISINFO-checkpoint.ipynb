{
 "cells": [
  {
   "cell_type": "code",
   "execution_count": 1,
   "metadata": {},
   "outputs": [],
   "source": [
    "import numpy as np\n",
    "import matplotlib.pyplot as plt\n",
    "%matplotlib inline\n",
    "import pandas as pd "
   ]
  },
  {
   "cell_type": "code",
   "execution_count": 2,
   "metadata": {},
   "outputs": [
    {
     "data": {
      "text/html": [
       "<div>\n",
       "<style scoped>\n",
       "    .dataframe tbody tr th:only-of-type {\n",
       "        vertical-align: middle;\n",
       "    }\n",
       "\n",
       "    .dataframe tbody tr th {\n",
       "        vertical-align: top;\n",
       "    }\n",
       "\n",
       "    .dataframe thead th {\n",
       "        text-align: right;\n",
       "    }\n",
       "</style>\n",
       "<table border=\"1\" class=\"dataframe\">\n",
       "  <thead>\n",
       "    <tr style=\"text-align: right;\">\n",
       "      <th></th>\n",
       "      <th>Province/State</th>\n",
       "      <th>Country/Region</th>\n",
       "      <th>Lat</th>\n",
       "      <th>Long</th>\n",
       "      <th>1/22/20</th>\n",
       "      <th>1/23/20</th>\n",
       "      <th>1/24/20</th>\n",
       "      <th>1/25/20</th>\n",
       "      <th>1/26/20</th>\n",
       "      <th>1/27/20</th>\n",
       "      <th>...</th>\n",
       "      <th>3/17/20</th>\n",
       "      <th>3/18/20</th>\n",
       "      <th>3/19/20</th>\n",
       "      <th>3/20/20</th>\n",
       "      <th>3/21/20</th>\n",
       "      <th>3/22/20</th>\n",
       "      <th>3/23/20</th>\n",
       "      <th>3/24/20</th>\n",
       "      <th>3/25/20</th>\n",
       "      <th>3/26/20</th>\n",
       "    </tr>\n",
       "  </thead>\n",
       "  <tbody>\n",
       "    <tr>\n",
       "      <th>120</th>\n",
       "      <td>NaN</td>\n",
       "      <td>Germany</td>\n",
       "      <td>51.0</td>\n",
       "      <td>9.0</td>\n",
       "      <td>0</td>\n",
       "      <td>0</td>\n",
       "      <td>0</td>\n",
       "      <td>0</td>\n",
       "      <td>0</td>\n",
       "      <td>1</td>\n",
       "      <td>...</td>\n",
       "      <td>9257</td>\n",
       "      <td>12327</td>\n",
       "      <td>15320</td>\n",
       "      <td>19848</td>\n",
       "      <td>22213</td>\n",
       "      <td>24873</td>\n",
       "      <td>29056</td>\n",
       "      <td>32986</td>\n",
       "      <td>37323</td>\n",
       "      <td>43938</td>\n",
       "    </tr>\n",
       "  </tbody>\n",
       "</table>\n",
       "<p>1 rows × 69 columns</p>\n",
       "</div>"
      ],
      "text/plain": [
       "    Province/State Country/Region   Lat  Long  1/22/20  1/23/20  1/24/20  \\\n",
       "120            NaN        Germany  51.0   9.0        0        0        0   \n",
       "\n",
       "     1/25/20  1/26/20  1/27/20  ...  3/17/20  3/18/20  3/19/20  3/20/20  \\\n",
       "120        0        0        1  ...     9257    12327    15320    19848   \n",
       "\n",
       "     3/21/20  3/22/20  3/23/20  3/24/20  3/25/20  3/26/20  \n",
       "120    22213    24873    29056    32986    37323    43938  \n",
       "\n",
       "[1 rows x 69 columns]"
      ]
     },
     "execution_count": 2,
     "metadata": {},
     "output_type": "execute_result"
    }
   ],
   "source": [
    "path = '/home/luiggi/GitSites/COVID-19/csse_covid_19_data/csse_covid_19_time_series/'\n",
    "corvid = pd.read_csv(path + 'time_series_covid19_confirmed_global.csv')\n",
    "corvid.loc[[120]]"
   ]
  },
  {
   "cell_type": "code",
   "execution_count": 12,
   "metadata": {},
   "outputs": [
    {
     "data": {
      "text/html": [
       "<div>\n",
       "<style scoped>\n",
       "    .dataframe tbody tr th:only-of-type {\n",
       "        vertical-align: middle;\n",
       "    }\n",
       "\n",
       "    .dataframe tbody tr th {\n",
       "        vertical-align: top;\n",
       "    }\n",
       "\n",
       "    .dataframe thead th {\n",
       "        text-align: right;\n",
       "    }\n",
       "</style>\n",
       "<table border=\"1\" class=\"dataframe\">\n",
       "  <thead>\n",
       "    <tr style=\"text-align: right;\">\n",
       "      <th></th>\n",
       "      <th>Province/State</th>\n",
       "      <th>Country/Region</th>\n",
       "      <th>Lat</th>\n",
       "      <th>Long</th>\n",
       "      <th>1/22/20</th>\n",
       "      <th>1/23/20</th>\n",
       "      <th>1/24/20</th>\n",
       "      <th>1/25/20</th>\n",
       "      <th>1/26/20</th>\n",
       "      <th>1/27/20</th>\n",
       "      <th>...</th>\n",
       "      <th>3/17/20</th>\n",
       "      <th>3/18/20</th>\n",
       "      <th>3/19/20</th>\n",
       "      <th>3/20/20</th>\n",
       "      <th>3/21/20</th>\n",
       "      <th>3/22/20</th>\n",
       "      <th>3/23/20</th>\n",
       "      <th>3/24/20</th>\n",
       "      <th>3/25/20</th>\n",
       "      <th>3/26/20</th>\n",
       "    </tr>\n",
       "  </thead>\n",
       "  <tbody>\n",
       "    <tr>\n",
       "      <th>120</th>\n",
       "      <td>NaN</td>\n",
       "      <td>Germany</td>\n",
       "      <td>51.0</td>\n",
       "      <td>9.0</td>\n",
       "      <td>0</td>\n",
       "      <td>0</td>\n",
       "      <td>0</td>\n",
       "      <td>0</td>\n",
       "      <td>0</td>\n",
       "      <td>1</td>\n",
       "      <td>...</td>\n",
       "      <td>9257</td>\n",
       "      <td>12327</td>\n",
       "      <td>15320</td>\n",
       "      <td>19848</td>\n",
       "      <td>22213</td>\n",
       "      <td>24873</td>\n",
       "      <td>29056</td>\n",
       "      <td>32986</td>\n",
       "      <td>37323</td>\n",
       "      <td>43938</td>\n",
       "    </tr>\n",
       "  </tbody>\n",
       "</table>\n",
       "<p>1 rows × 69 columns</p>\n",
       "</div>"
      ],
      "text/plain": [
       "    Province/State Country/Region   Lat  Long  1/22/20  1/23/20  1/24/20  \\\n",
       "120            NaN        Germany  51.0   9.0        0        0        0   \n",
       "\n",
       "     1/25/20  1/26/20  1/27/20  ...  3/17/20  3/18/20  3/19/20  3/20/20  \\\n",
       "120        0        0        1  ...     9257    12327    15320    19848   \n",
       "\n",
       "     3/21/20  3/22/20  3/23/20  3/24/20  3/25/20  3/26/20  \n",
       "120    22213    24873    29056    32986    37323    43938  \n",
       "\n",
       "[1 rows x 69 columns]"
      ]
     },
     "execution_count": 12,
     "metadata": {},
     "output_type": "execute_result"
    }
   ],
   "source": [
    "corvid_dead = pd.read_csv(path + 'time_series_covid19_deaths_global.csv')\n",
    "corvid.loc[[120]]"
   ]
  },
  {
   "cell_type": "code",
   "execution_count": 4,
   "metadata": {},
   "outputs": [
    {
     "name": "stdout",
     "output_type": "stream",
     "text": [
      "120 Germany\n"
     ]
    }
   ],
   "source": [
    "for i, p in enumerate(corvid['Country/Region']):\n",
    "    if p == 'Germany':\n",
    "        print(i,p)"
   ]
  },
  {
   "cell_type": "code",
   "execution_count": 5,
   "metadata": {},
   "outputs": [],
   "source": [
    "row_mex = 158\n",
    "row_ita = 137\n",
    "row_spa = 201\n",
    "row_ger = 120"
   ]
  },
  {
   "cell_type": "code",
   "execution_count": 6,
   "metadata": {},
   "outputs": [],
   "source": [
    "def getInformation(data, country_id):\n",
    "    country = data.loc[[country_id]]\n",
    "    dummy = country.values[0][4:]\n",
    "    confirmed_array =  dummy[dummy > 0]\n",
    "    return confirmed_array "
   ]
  },
  {
   "cell_type": "code",
   "execution_count": 7,
   "metadata": {},
   "outputs": [],
   "source": [
    "def calcFactor(x):\n",
    "    suma = 0\n",
    "    N = len(x)\n",
    "    for i,p in enumerate(range(N-1)):\n",
    "        suma +=  x[i+1]/x[i]\n",
    "    \n",
    "    F = suma / (N - 1)\n",
    "    return N, F"
   ]
  },
  {
   "cell_type": "code",
   "execution_count": 8,
   "metadata": {},
   "outputs": [],
   "source": [
    "def forecast(days, factor, start):\n",
    "    xp = [start]\n",
    "    for i in range(1,days):\n",
    "        xp.append(xp[i-1] * factor)\n",
    "    return xp"
   ]
  },
  {
   "cell_type": "code",
   "execution_count": 9,
   "metadata": {},
   "outputs": [
    {
     "data": {
      "text/plain": [
       "array([1, 4, 5, 5, 5, 5, 5, 6, 6, 7, 7, 7, 8, 12, 12, 26, 41, 53, 82, 93,\n",
       "       118, 164, 203, 251, 316, 367, 405, 475], dtype=object)"
      ]
     },
     "execution_count": 9,
     "metadata": {},
     "output_type": "execute_result"
    }
   ],
   "source": [
    "Mexico = getInformation(corvid, row_mex)\n",
    "Mexico"
   ]
  },
  {
   "cell_type": "code",
   "execution_count": 10,
   "metadata": {},
   "outputs": [],
   "source": [
    "mex_list = list(Mexico)\n",
    "mex_list[-1] = 475\n",
    "mex_list.append(585)\n",
    "Mexico = np.array(mex_list)"
   ]
  },
  {
   "cell_type": "code",
   "execution_count": 11,
   "metadata": {},
   "outputs": [
    {
     "data": {
      "text/plain": [
       "array([  1,   4,   5,   5,   5,   5,   5,   6,   6,   7,   7,   7,   8,\n",
       "        12,  12,  26,  41,  53,  82,  93, 118, 164, 203, 251, 316, 367,\n",
       "       405, 475, 585])"
      ]
     },
     "execution_count": 11,
     "metadata": {},
     "output_type": "execute_result"
    }
   ],
   "source": [
    "Mexico"
   ]
  },
  {
   "cell_type": "code",
   "execution_count": 15,
   "metadata": {},
   "outputs": [
    {
     "data": {
      "text/plain": [
       "array([1, 1, 2, 2, 3, 4, 5, 6, 8])"
      ]
     },
     "execution_count": 15,
     "metadata": {},
     "output_type": "execute_result"
    }
   ],
   "source": [
    "mex_dead = getInformation(corvid_dead, row_mex)\n",
    "mex_dead_list = list(mex_dead)\n",
    "mex_dead_list.append(8)\n",
    "mex_dead = np.array(mex_dead_list)\n",
    "mex_dead\n"
   ]
  },
  {
   "cell_type": "code",
   "execution_count": null,
   "metadata": {},
   "outputs": [],
   "source": []
  },
  {
   "cell_type": "code",
   "execution_count": 22,
   "metadata": {},
   "outputs": [
    {
     "data": {
      "text/plain": [
       "array([1, 1, 1, 1, 1, 1, 1, 1, 2, 2, 2, 2, 2, 2, 2, 2, 2, 2, 2, 2, 2, 2,\n",
       "       2, 2, 6, 13, 15, 32, 45, 84, 120, 165, 222, 259, 400, 500, 673,\n",
       "       1073, 1695, 2277, 2277, 5232, 6391, 7798, 9942, 11748, 13910,\n",
       "       17963, 20410, 25374, 28768, 35136, 39885, 49515, 57786],\n",
       "      dtype=object)"
      ]
     },
     "execution_count": 22,
     "metadata": {},
     "output_type": "execute_result"
    }
   ],
   "source": [
    "Spain = getInformation(corvid, row_spa)\n",
    "Spain"
   ]
  },
  {
   "cell_type": "code",
   "execution_count": 23,
   "metadata": {},
   "outputs": [
    {
     "data": {
      "text/plain": [
       "array([1, 2, 3, 5, 10, 17, 28, 35, 54, 55, 133, 195, 289, 342, 533, 623,\n",
       "       830, 1043, 1375, 1772, 2311, 2808, 3647, 4365], dtype=object)"
      ]
     },
     "execution_count": 23,
     "metadata": {},
     "output_type": "execute_result"
    }
   ],
   "source": [
    "spa_dead = getInformation(corvid_dead, row_spa)\n",
    "spa_dead"
   ]
  },
  {
   "cell_type": "code",
   "execution_count": 24,
   "metadata": {},
   "outputs": [
    {
     "data": {
      "text/plain": [
       "array([2, 2, 2, 2, 2, 2, 2, 3, 3, 3, 3, 3, 3, 3, 3, 3, 3, 3, 3, 3, 3, 20,\n",
       "       62, 155, 229, 322, 453, 655, 888, 1128, 1694, 2036, 2502, 3089,\n",
       "       3858, 4636, 5883, 7375, 9172, 10149, 12462, 12462, 17660, 21157,\n",
       "       24747, 27980, 31506, 35713, 41035, 47021, 53578, 59138, 63927,\n",
       "       69176, 74386, 80589], dtype=object)"
      ]
     },
     "execution_count": 24,
     "metadata": {},
     "output_type": "execute_result"
    }
   ],
   "source": [
    "Italy = getInformation(corvid, row_ita)\n",
    "Italy"
   ]
  },
  {
   "cell_type": "code",
   "execution_count": 25,
   "metadata": {},
   "outputs": [
    {
     "data": {
      "text/plain": [
       "array([1, 2, 3, 7, 10, 12, 17, 21, 29, 34, 52, 79, 107, 148, 197, 233,\n",
       "       366, 463, 631, 827, 827, 1266, 1441, 1809, 2158, 2503, 2978, 3405,\n",
       "       4032, 4825, 5476, 6077, 6820, 7503, 8215], dtype=object)"
      ]
     },
     "execution_count": 25,
     "metadata": {},
     "output_type": "execute_result"
    }
   ],
   "source": [
    "ita_dead = getInformation(corvid_dead, row_ita)\n",
    "ita_dead"
   ]
  },
  {
   "cell_type": "code",
   "execution_count": 26,
   "metadata": {},
   "outputs": [
    {
     "data": {
      "text/plain": [
       "array([1, 4, 4, 4, 5, 8, 10, 12, 12, 12, 12, 13, 13, 14, 14, 16, 16, 16,\n",
       "       16, 16, 16, 16, 16, 16, 16, 16, 16, 16, 16, 17, 27, 46, 48, 79,\n",
       "       130, 159, 196, 262, 482, 670, 799, 1040, 1176, 1457, 1908, 2078,\n",
       "       3675, 4585, 5795, 7272, 9257, 12327, 15320, 19848, 22213, 24873,\n",
       "       29056, 32986, 37323, 43938], dtype=object)"
      ]
     },
     "execution_count": 26,
     "metadata": {},
     "output_type": "execute_result"
    }
   ],
   "source": [
    "Germany = getInformation(corvid, row_ger)\n",
    "Germany"
   ]
  },
  {
   "cell_type": "code",
   "execution_count": 27,
   "metadata": {},
   "outputs": [
    {
     "data": {
      "text/plain": [
       "array([2, 2, 3, 3, 7, 9, 11, 17, 24, 28, 44, 67, 84, 94, 123, 157, 206,\n",
       "       267], dtype=object)"
      ]
     },
     "execution_count": 27,
     "metadata": {},
     "output_type": "execute_result"
    }
   ],
   "source": [
    "ger_dead = getInformation(corvid_dead, row_ger)\n",
    "ger_dead"
   ]
  },
  {
   "cell_type": "code",
   "execution_count": 28,
   "metadata": {},
   "outputs": [],
   "source": [
    "thr = 1\n",
    "days_forecast = 60"
   ]
  },
  {
   "cell_type": "code",
   "execution_count": 29,
   "metadata": {},
   "outputs": [],
   "source": [
    "mex_days, mex_factor = calcFactor(Mexico[Mexico >= thr])\n",
    "spa_days, spa_factor = calcFactor(Spain[Spain >= thr])\n",
    "ita_days, ita_factor = calcFactor(Italy[Italy >= thr])\n",
    "ger_days, ger_factor = calcFactor(Germany[Germany >= thr])"
   ]
  },
  {
   "cell_type": "code",
   "execution_count": 30,
   "metadata": {},
   "outputs": [],
   "source": [
    "mex_future = forecast(days_forecast, mex_factor, thr)#Mexico[0])\n",
    "spa_future = forecast(days_forecast, spa_factor, thr)#Spain[0])\n",
    "ita_future = forecast(days_forecast, ita_factor, thr)#Italy[0])\n",
    "ger_future = forecast(days_forecast, ger_factor, thr)#Italy[0])"
   ]
  },
  {
   "cell_type": "code",
   "execution_count": 31,
   "metadata": {},
   "outputs": [],
   "source": [
    "total_days = 60\n",
    "xts = np.arange(0,total_days,5)"
   ]
  },
  {
   "cell_type": "code",
   "execution_count": 32,
   "metadata": {},
   "outputs": [
    {
     "name": "stdout",
     "output_type": "stream",
     "text": [
      "1.3227977022101833\n"
     ]
    }
   ],
   "source": [
    "Mexico[Mexico >= thr]\n",
    "print(mex_factor)"
   ]
  },
  {
   "cell_type": "code",
   "execution_count": 46,
   "metadata": {},
   "outputs": [
    {
     "data": {
      "text/plain": [
       "Text(0.5, 1.0, '(E+1) = 1.3104184497820976')"
      ]
     },
     "execution_count": 46,
     "metadata": {},
     "output_type": "execute_result"
    },
    {
     "data": {
      "image/png": "[encoded data removed]",
      "text/plain": [
       "<Figure size 720x360 with 1 Axes>"
      ]
     },
     "metadata": {
      "needs_background": "light"
     },
     "output_type": "display_data"
    }
   ],
   "source": [
    "fig = plt.figure(figsize=(10,5))\n",
    "it = Italy[Italy >= thr]\n",
    "sp = Spain[Spain >= thr]\n",
    "gr = Germany[Germany >= thr]\n",
    "mx = Mexico[Mexico >= thr]\n",
    "\n",
    "plt.plot([x for x in range(1, len(it)+1)], it,'s-', lw = 3.00, c ='lightsteelblue', label ='Italia')\n",
    "#plt.plot(ita_future,'-', lw = 1.0, c ='lightsteelblue', label = 'Italia exp.')\n",
    "\n",
    "plt.plot([x for x in range(1, len(sp)+1)], sp,'s-', lw = 3.00, c = 'silver', label ='España')\n",
    "#plt.plot(spa_future,'-', lw = 1.0, c = 'silver', label = 'España exp.')\n",
    "\n",
    "plt.plot([x for x in range(1, len(gr)+1)], gr,'s-', lw = 3.00, c = 'pink', label = 'Alemania')\n",
    "#plt.plot(ger_future,'-', lw = 1.0, c = 'pink', label = 'Alemania exp.')\n",
    "\n",
    "plt.plot([x for x in range(1, len(mx)+1)], mx,'o-', lw = 2.00, c='k', label = 'México')\n",
    "plt.plot(mex_future,'-', lw = 1.0, c = 'k', label = 'México modelo.')\n",
    "\n",
    "plt.xlim([1,total_days])#1 * len(Italy)])\n",
    "plt.ylim([thr,1000])\n",
    "plt.xlabel('Días')\n",
    "plt.ylabel('Casos confirmados COVID-19')\n",
    "#plt.yscale('log')\n",
    "plt.xticks(ticks=xts, labels=xts)#, rotation='vertical')\n",
    "plt.minorticks_on()\n",
    "plt.legend()\n",
    "plt.grid()\n",
    "plt.title('(E+1) = 1.3104184497820976')\n",
    "#plt.title('A partir de 20 o más casos confirmados, modelo exponencial - futuro (semi-log)')\n",
    "#plt.savefig('fig2_log.pdf')"
   ]
  },
  {
   "cell_type": "code",
   "execution_count": 44,
   "metadata": {},
   "outputs": [
    {
     "data": {
      "text/plain": [
       "Text(0.5, 1.0, '(E+1) = 1.3104184497820976')"
      ]
     },
     "execution_count": 44,
     "metadata": {},
     "output_type": "execute_result"
    },
    {
     "data": {
      "image/png": "[encoded data removed]",
      "text/plain": [
       "<Figure size 720x360 with 1 Axes>"
      ]
     },
     "metadata": {
      "needs_background": "light"
     },
     "output_type": "display_data"
    }
   ],
   "source": [
    "fig = plt.figure(figsize=(10,5))\n",
    "it = ita_dead[ita_dead >= thr]\n",
    "sp = spa_dead[spa_dead >= thr]\n",
    "gr = ger_dead[ger_dead >= thr]\n",
    "mx = mex_dead[mex_dead >= thr]\n",
    "\n",
    "plt.plot([x for x in range(1, len(it)+1)], it,'s-', lw = 3.00, c ='lightsteelblue', label ='Italia')\n",
    "#plt.plot(ita_future,'-', lw = 1.0, c ='lightsteelblue', label = 'Italia exp.')\n",
    "\n",
    "plt.plot([x for x in range(1, len(sp)+1)], sp,'s-', lw = 3.00, c = 'silver', label ='España')\n",
    "#plt.plot(spa_future,'-', lw = 1.0, c = 'silver', label = 'España exp.')\n",
    "\n",
    "plt.plot([x for x in range(1, len(gr)+1)], gr,'s-', lw = 3.00, c = 'pink', label = 'Alemania')\n",
    "#plt.plot(ger_future,'-', lw = 1.0, c = 'pink', label = 'Alemania exp.')\n",
    "\n",
    "plt.plot([x for x in range(1, len(mx)+1)], mx,'o-', lw = 2.00, c='k', label = 'México')\n",
    "#plt.plot(mex_future,'-', lw = 1.0, c = 'k', label = 'México modelo.')\n",
    "\n",
    "total_days = 40\n",
    "xts = np.arange(0,total_days,5)\n",
    "\n",
    "plt.xlim([1,total_days])#1 * len(Italy)])\n",
    "plt.ylim([thr,100])\n",
    "plt.xlabel('Días')\n",
    "plt.ylabel('Muertes por COVID-19')\n",
    "#plt.yscale('log')\n",
    "plt.xticks(ticks=xts, labels=xts)#, rotation='vertical')\n",
    "plt.minorticks_on()\n",
    "plt.legend()\n",
    "plt.grid()\n",
    "plt.title('(E+1) = 1.3104184497820976')\n",
    "#plt.title('A partir de 20 o más casos confirmados, modelo exponencial - futuro (semi-log)')\n",
    "#plt.savefig('fig2_log.pdf')"
   ]
  },
  {
   "cell_type": "code",
   "execution_count": null,
   "metadata": {},
   "outputs": [],
   "source": []
  }
 ],
 "metadata": {
  "kernelspec": {
   "display_name": "Python 3",
   "language": "python",
   "name": "python3"
  },
  "language_info": {
   "codemirror_mode": {
    "name": "ipython",
    "version": 3
   },
   "file_extension": ".py",
   "mimetype": "text/x-python",
   "name": "python",
   "nbconvert_exporter": "python",
   "pygments_lexer": "ipython3",
   "version": "3.7.6"
  }
 },
 "nbformat": 4,
 "nbformat_minor": 4
}
