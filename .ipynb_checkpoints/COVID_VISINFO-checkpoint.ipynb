{
 "cells": [
  {
   "cell_type": "code",
   "execution_count": 37,
   "metadata": {},
   "outputs": [],
   "source": [
    "import numpy as np\n",
    "import matplotlib.pyplot as plt\n",
    "%matplotlib inline\n",
    "import pandas as pd "
   ]
  },
  {
   "cell_type": "code",
   "execution_count": 73,
   "metadata": {},
   "outputs": [],
   "source": [
    "def getInformation(data, country_id):\n",
    "    print(country_id)\n",
    "    suma = np.zeros(70)\n",
    "    for i in country_id:\n",
    "        country = data.loc[[i]]\n",
    "        dummy = country.values[0][4:]\n",
    "        suma = suma + dummy\n",
    "    return suma[suma >= 1]\n",
    "\n",
    "def calcFactor(x):\n",
    "    suma = 0\n",
    "    N = len(x)\n",
    "    for i,p in enumerate(range(N-1)):\n",
    "        suma +=  x[i+1]/x[i]\n",
    "    \n",
    "    F = suma / (N - 1)\n",
    "    return N, F\n",
    "\n",
    "def forecast(days, factor, start):\n",
    "    xp = [start]\n",
    "    for i in range(1, days):\n",
    "        xp.append(xp[i-1] * factor)\n",
    "    return xp"
   ]
  },
  {
   "cell_type": "code",
   "execution_count": 4,
   "metadata": {},
   "outputs": [],
   "source": [
    "file = 'time_series_covid19_confirmed_global.csv'\n",
    "#path = '/home/luiggi/GitSites/COVID-19/csse_covid_19_data/csse_covid_19_time_series/'\n",
    "covid = pd.read_csv(file)"
   ]
  },
  {
   "cell_type": "code",
   "execution_count": 103,
   "metadata": {},
   "outputs": [],
   "source": [
    "file = 'time_series_covid19_deaths_global.csv'\n",
    "#path = '/home/luiggi/GitSites/COVID-19/csse_covid_19_data/csse_covid_19_time_series/'\n",
    "covid = pd.read_csv(file)"
   ]
  },
  {
   "cell_type": "code",
   "execution_count": null,
   "metadata": {},
   "outputs": [],
   "source": [
    "file = 'time_series_covid19_recovered_global.csv'\n",
    "#path = '/home/luiggi/GitSites/COVID-19/csse_covid_19_data/csse_covid_19_time_series/'\n",
    "covid = pd.read_csv(file)"
   ]
  },
  {
   "cell_type": "code",
   "execution_count": null,
   "metadata": {},
   "outputs": [],
   "source": [
    "for i, p in enumerate(covid['Country/Region']):\n",
    "    if p == 'US':\n",
    "        print(i,p)"
   ]
  },
  {
   "cell_type": "code",
   "execution_count": null,
   "metadata": {},
   "outputs": [],
   "source": [
    "#covid.loc[[p for p in range(231,247)]]\n",
    "covid.loc[[225]]"
   ]
  },
  {
   "cell_type": "code",
   "execution_count": 97,
   "metadata": {},
   "outputs": [
    {
     "name": "stdout",
     "output_type": "stream",
     "text": [
      "fra [116] lightsteelblue\n",
      "ger [120] peachpuff\n",
      "ita [137] lightgreen\n",
      "mex [158] grey\n",
      "spa [201] mistyrose\n",
      "uk [223] thistle\n",
      "can [35, 36, 37, 38, 39, 40, 41, 42, 43, 44, 45, 231, 238, 245, 246] orchid\n",
      "usa [225] blue\n"
     ]
    }
   ],
   "source": [
    "# Confirmed\n",
    "row_fra = [116]\n",
    "row_ger = [120]\n",
    "row_ita = [137]\n",
    "row_mex = [158]\n",
    "row_spa = [201]\n",
    "row_uk = [223]\n",
    "row_can = [35, 36, 37, 38, 39, 40, 41, 42, 43, 44, 45, 231, 238, 245, 246]\n",
    "#row_can = [36] # Recovered\n",
    "row_usa = [225]\n",
    "\n",
    "country = {'fra':row_fra, 'ger':row_ger, 'ita':row_ita, \n",
    "           'mex':row_mex, 'spa':row_spa, 'uk': row_uk, \n",
    "           'can':row_can, 'usa':row_usa}\n",
    "country_color = {'fra':'lightsteelblue', 'ger':'peachpuff', 'ita':'lightgreen', \n",
    "                 'mex':'grey', 'spa':'mistyrose', 'uk':'thistle', \n",
    "                 'can':'orchid', 'usa':'blue'}\n",
    "for k in country:\n",
    "    print(k, country[k], country_color[k])"
   ]
  },
  {
   "cell_type": "code",
   "execution_count": 104,
   "metadata": {},
   "outputs": [
    {
     "name": "stdout",
     "output_type": "stream",
     "text": [
      "[116]\n",
      "[120]\n",
      "[137]\n",
      "[158]\n",
      "[201]\n",
      "[223]\n",
      "[35, 36, 37, 38, 39, 40, 41, 42, 43, 44, 45, 231, 238, 245, 246]\n",
      "[225]\n"
     ]
    },
    {
     "data": {
      "text/plain": [
       "{'fra': array([1.0, 1.0, 1.0, 1.0, 1.0, 1.0, 1.0, 1.0, 1.0, 1.0, 1.0, 2.0, 2.0,\n",
       "        2.0, 2.0, 2.0, 3.0, 4.0, 4.0, 6.0, 9.0, 11.0, 19.0, 19.0, 33.0,\n",
       "        48.0, 48.0, 79.0, 91.0, 91.0, 148.0, 148.0, 148.0, 243.0, 450.0,\n",
       "        562.0, 674.0, 860.0, 1100.0, 1331.0, 1696.0, 1995.0, 2314.0,\n",
       "        2606.0, 3024.0, 3523.0], dtype=object),\n",
       " 'ger': array([2.0, 2.0, 3.0, 3.0, 7.0, 9.0, 11.0, 17.0, 24.0, 28.0, 44.0, 67.0,\n",
       "        84.0, 94.0, 123.0, 157.0, 206.0, 267.0, 342.0, 433.0, 533.0, 645.0,\n",
       "        775.0], dtype=object),\n",
       " 'ita': array([1.0, 2.0, 3.0, 7.0, 10.0, 12.0, 17.0, 21.0, 29.0, 34.0, 52.0, 79.0,\n",
       "        107.0, 148.0, 197.0, 233.0, 366.0, 463.0, 631.0, 827.0, 827.0,\n",
       "        1266.0, 1441.0, 1809.0, 2158.0, 2503.0, 2978.0, 3405.0, 4032.0,\n",
       "        4825.0, 5476.0, 6077.0, 6820.0, 7503.0, 8215.0, 9134.0, 10023.0,\n",
       "        10779.0, 11591.0, 12428.0], dtype=object),\n",
       " 'mex': array([1.0, 1.0, 2.0, 2.0, 3.0, 4.0, 5.0, 6.0, 8.0, 12.0, 16.0, 20.0,\n",
       "        28.0], dtype=object),\n",
       " 'spa': array([1.0, 2.0, 3.0, 5.0, 10.0, 17.0, 28.0, 35.0, 54.0, 55.0, 133.0,\n",
       "        195.0, 289.0, 342.0, 533.0, 623.0, 830.0, 1043.0, 1375.0, 1772.0,\n",
       "        2311.0, 2808.0, 3647.0, 4365.0, 5138.0, 5982.0, 6803.0, 7716.0,\n",
       "        8464.0], dtype=object),\n",
       " 'uk': array([1.0, 2.0, 2.0, 3.0, 4.0, 6.0, 8.0, 8.0, 8.0, 21.0, 21.0, 55.0,\n",
       "        55.0, 71.0, 137.0, 177.0, 233.0, 281.0, 335.0, 422.0, 465.0, 578.0,\n",
       "        759.0, 1019.0, 1228.0, 1408.0, 1789.0], dtype=object),\n",
       " 'can': array([1.0, 1.0, 1.0, 1.0, 1.0, 1.0, 1.0, 4.0, 5.0, 8.0, 9.0, 12.0, 19.0,\n",
       "        21.0, 25.0, 26.0, 30.0, 38.0, 54.0, 61.0, 64.0, 80.0, 101.0],\n",
       "       dtype=object),\n",
       " 'usa': array([1.0, 1.0, 6.0, 7.0, 11.0, 12.0, 14.0, 17.0, 21.0, 22.0, 28.0, 36.0,\n",
       "        40.0, 47.0, 54.0, 63.0, 85.0, 108.0, 118.0, 200.0, 244.0, 307.0,\n",
       "        417.0, 557.0, 706.0, 942.0, 1209.0, 1581.0, 2026.0, 2467.0, 2978.0,\n",
       "        3873.0], dtype=object)}"
      ]
     },
     "execution_count": 104,
     "metadata": {},
     "output_type": "execute_result"
    }
   ],
   "source": [
    "country_info = {}\n",
    "for k in country:\n",
    "    country_info[k] = getInformation(covid, country[k])\n",
    "country_info"
   ]
  },
  {
   "cell_type": "code",
   "execution_count": 95,
   "metadata": {},
   "outputs": [
    {
     "name": "stdout",
     "output_type": "stream",
     "text": [
      "[1.0, 1.0, 2.0, 2.0, 3.0, 4.0, 5.0, 6.0, 8.0, 12.0, 16.0, 20.0, 28.0, 1215, 1317]\n"
     ]
    },
    {
     "data": {
      "text/plain": [
       "array([1.000e+00, 1.000e+00, 2.000e+00, 2.000e+00, 3.000e+00, 4.000e+00,\n",
       "       5.000e+00, 6.000e+00, 8.000e+00, 1.200e+01, 1.600e+01, 2.000e+01,\n",
       "       2.800e+01, 1.215e+03, 1.317e+03])"
      ]
     },
     "execution_count": 95,
     "metadata": {},
     "output_type": "execute_result"
    }
   ],
   "source": [
    "# Mexico corrección - Confirmados\n",
    "mex_list = list(country_info['mex'])\n",
    "mex_list.append(1215)\n",
    "mex_list.append(1378)\n",
    "print(mex_list)\n",
    "country_info['mex'] = np.array(mex_list)\n",
    "country_info['mex']"
   ]
  },
  {
   "cell_type": "code",
   "execution_count": 105,
   "metadata": {},
   "outputs": [
    {
     "name": "stdout",
     "output_type": "stream",
     "text": [
      "[1.0, 1.0, 2.0, 2.0, 3.0, 4.0, 5.0, 6.0, 8.0, 12.0, 16.0, 20.0, 28.0, 37]\n"
     ]
    },
    {
     "data": {
      "text/plain": [
       "array([ 1.,  1.,  2.,  2.,  3.,  4.,  5.,  6.,  8., 12., 16., 20., 28.,\n",
       "       37.])"
      ]
     },
     "execution_count": 105,
     "metadata": {},
     "output_type": "execute_result"
    }
   ],
   "source": [
    "# Mexico corrección - Defunciones\n",
    "mex_list = list(country_info['mex'])#.append(848)\n",
    "mex_list.append(37)\n",
    "print(mex_list)\n",
    "country_info['mex'] = np.array(mex_list)\n",
    "country_info['mex']"
   ]
  },
  {
   "cell_type": "code",
   "execution_count": 106,
   "metadata": {},
   "outputs": [],
   "source": [
    "thr = 1\n",
    "days_forecast = 70"
   ]
  },
  {
   "cell_type": "code",
   "execution_count": 75,
   "metadata": {},
   "outputs": [],
   "source": [
    "country_factor = {}\n",
    "for k in country_info:\n",
    "    country_factor[k] = calcFactor(country_info[k][country_info[k] >= thr])\n",
    "#country_factor"
   ]
  },
  {
   "cell_type": "code",
   "execution_count": 76,
   "metadata": {},
   "outputs": [],
   "source": [
    "country_forecast = {}\n",
    "for k in country_factor:\n",
    "    country_forecast[k] = forecast(days_forecast, country_factor[k][1], thr)\n",
    "#country_forecast"
   ]
  },
  {
   "cell_type": "code",
   "execution_count": 107,
   "metadata": {},
   "outputs": [],
   "source": [
    "total_days = 45\n",
    "xts = np.arange(0,total_days,7)"
   ]
  },
  {
   "cell_type": "code",
   "execution_count": 110,
   "metadata": {
    "scrolled": false
   },
   "outputs": [
    {
     "data": {
      "image/png": "[encoded data removed]",
      "text/plain": [
       "<Figure size 1008x504 with 1 Axes>"
      ]
     },
     "metadata": {
      "needs_background": "light"
     },
     "output_type": "display_data"
    }
   ],
   "source": [
    "fig = plt.figure(figsize=(14,7))\n",
    "for k in country_info:\n",
    "#    print(k, sep='\\t')\n",
    "    pais = country_info[k][country_info[k] >= thr]\n",
    "    xp = [x for x in range(1,len(pais)+1)]\n",
    "    par = {'marker':'', 'lw':'-', 'lw':4.00, 'c':country_color[k], 'label':k}\n",
    "    pars = {'marker':'o', 's':30.0, 'c':'k'}#country_color[k]}\n",
    "    if k != 'mex':\n",
    "        plt.scatter(xp[-2:], pais[-2:], **pars)\n",
    "        plt.plot(xp, pais, **par)\n",
    "\n",
    "par = {'marker':'o', 'lw':'-', 'lw':2.00, 'c':'k', 'label':'mex'}\n",
    "pais = country_info['mex'][country_info['mex'] >= thr]\n",
    "xp = [x for x in range(1,len(pais)+1)]\n",
    "plt.plot(xp, pais, **par)\n",
    "\n",
    "#plt.plot(country_forecast['mex'],'--', lw = 1.0, c = 'k', label = 'México predicción')\n",
    "#plt.plot(country_forecast['usa'],'--', lw = 1.0, c = 'b', label = 'USA predicción')\n",
    "\n",
    "plt.xlim([1,total_days])#1 * len(Italy)])\n",
    "plt.ylim([thr-0.1,200])\n",
    "plt.xlabel('Días')\n",
    "plt.ylabel('Casos confirmados COVID-19')\n",
    "#plt.ylabel('Defunciones COVID-19')\n",
    "#plt.yscale('log')\n",
    "plt.xticks(ticks=xts, labels=xts)#, rotation='vertical')\n",
    "plt.minorticks_on()\n",
    "plt.legend()\n",
    "plt.grid()\n",
    "plt.title('Confirmados con COVID-19 a partir del caso 100 (semilog)')\n",
    "#plt.title('Defunciones desde el primer registro ...')\n",
    "#plt.savefig('Confirmados290320_02_.png')\n",
    "#plt.savefig('Defunciones290320.png')\n",
    "plt.show()"
   ]
  },
  {
   "cell_type": "code",
   "execution_count": null,
   "metadata": {},
   "outputs": [],
   "source": []
  }
 ],
 "metadata": {
  "kernelspec": {
   "display_name": "Python 3",
   "language": "python",
   "name": "python3"
  },
  "language_info": {
   "codemirror_mode": {
    "name": "ipython",
    "version": 3
   },
   "file_extension": ".py",
   "mimetype": "text/x-python",
   "name": "python",
   "nbconvert_exporter": "python",
   "pygments_lexer": "ipython3",
   "version": "3.7.6"
  }
 },
 "nbformat": 4,
 "nbformat_minor": 4
}
