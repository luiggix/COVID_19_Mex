{
 "cells": [
  {
   "cell_type": "code",
   "execution_count": 1,
   "metadata": {},
   "outputs": [],
   "source": [
    "import numpy as np\n",
    "import matplotlib.pyplot as plt\n",
    "%matplotlib inline\n",
    "import pandas as pd "
   ]
  },
  {
   "cell_type": "code",
   "execution_count": 2,
   "metadata": {},
   "outputs": [],
   "source": [
    "def getInformation(data, country_id):\n",
    "    print(country_id)\n",
    "    suma = np.zeros(67)\n",
    "    for i in country_id:\n",
    "        country = data.loc[[i]]\n",
    "        dummy = country.values[0][4:]\n",
    "        suma = suma + dummy\n",
    "    return suma[suma >= 1]\n",
    "\n",
    "def calcFactor(x):\n",
    "    suma = 0\n",
    "    N = len(x)\n",
    "    for i,p in enumerate(range(N-1)):\n",
    "        suma +=  x[i+1]/x[i]\n",
    "    \n",
    "    F = suma / (N - 1)\n",
    "    return N, F\n",
    "\n",
    "def forecast(days, factor, start):\n",
    "    xp = [start]\n",
    "    for i in range(1,days):\n",
    "        xp.append(xp[i-1] * factor)\n",
    "    return xp"
   ]
  },
  {
   "cell_type": "code",
   "execution_count": 131,
   "metadata": {},
   "outputs": [],
   "source": [
    "file = 'time_series_covid19_confirmed_global.csv'\n",
    "#path = '/home/luiggi/GitSites/COVID-19/csse_covid_19_data/csse_covid_19_time_series/'\n",
    "covid = pd.read_csv(file)"
   ]
  },
  {
   "cell_type": "code",
   "execution_count": 99,
   "metadata": {},
   "outputs": [],
   "source": [
    "file = 'time_series_covid19_deaths_global.csv'\n",
    "#path = '/home/luiggi/GitSites/COVID-19/csse_covid_19_data/csse_covid_19_time_series/'\n",
    "covid = pd.read_csv(file)"
   ]
  },
  {
   "cell_type": "code",
   "execution_count": 165,
   "metadata": {},
   "outputs": [],
   "source": [
    "file = 'time_series_covid19_recovered_global.csv'\n",
    "#path = '/home/luiggi/GitSites/COVID-19/csse_covid_19_data/csse_covid_19_time_series/'\n",
    "covid = pd.read_csv(file)"
   ]
  },
  {
   "cell_type": "code",
   "execution_count": 166,
   "metadata": {},
   "outputs": [
    {
     "name": "stdout",
     "output_type": "stream",
     "text": [
      "36 Canada\n"
     ]
    }
   ],
   "source": [
    "for i, p in enumerate(covid['Country/Region']):\n",
    "    if p == 'Canada':\n",
    "        print(i,p)"
   ]
  },
  {
   "cell_type": "code",
   "execution_count": 167,
   "metadata": {},
   "outputs": [
    {
     "data": {
      "text/html": [
       "<div>\n",
       "<style scoped>\n",
       "    .dataframe tbody tr th:only-of-type {\n",
       "        vertical-align: middle;\n",
       "    }\n",
       "\n",
       "    .dataframe tbody tr th {\n",
       "        vertical-align: top;\n",
       "    }\n",
       "\n",
       "    .dataframe thead th {\n",
       "        text-align: right;\n",
       "    }\n",
       "</style>\n",
       "<table border=\"1\" class=\"dataframe\">\n",
       "  <thead>\n",
       "    <tr style=\"text-align: right;\">\n",
       "      <th></th>\n",
       "      <th>Province/State</th>\n",
       "      <th>Country/Region</th>\n",
       "      <th>Lat</th>\n",
       "      <th>Long</th>\n",
       "      <th>1/22/20</th>\n",
       "      <th>1/23/20</th>\n",
       "      <th>1/24/20</th>\n",
       "      <th>1/25/20</th>\n",
       "      <th>1/26/20</th>\n",
       "      <th>1/27/20</th>\n",
       "      <th>...</th>\n",
       "      <th>3/19/20</th>\n",
       "      <th>3/20/20</th>\n",
       "      <th>3/21/20</th>\n",
       "      <th>3/22/20</th>\n",
       "      <th>3/23/20</th>\n",
       "      <th>3/24/20</th>\n",
       "      <th>3/25/20</th>\n",
       "      <th>3/26/20</th>\n",
       "      <th>3/27/20</th>\n",
       "      <th>3/28/20</th>\n",
       "    </tr>\n",
       "  </thead>\n",
       "  <tbody>\n",
       "    <tr>\n",
       "      <th>225</th>\n",
       "      <td>NaN</td>\n",
       "      <td>US</td>\n",
       "      <td>37.0902</td>\n",
       "      <td>-95.7129</td>\n",
       "      <td>0</td>\n",
       "      <td>0</td>\n",
       "      <td>0</td>\n",
       "      <td>0</td>\n",
       "      <td>0</td>\n",
       "      <td>0</td>\n",
       "      <td>...</td>\n",
       "      <td>121</td>\n",
       "      <td>147</td>\n",
       "      <td>176</td>\n",
       "      <td>178</td>\n",
       "      <td>178</td>\n",
       "      <td>348</td>\n",
       "      <td>361</td>\n",
       "      <td>681</td>\n",
       "      <td>869</td>\n",
       "      <td>1072</td>\n",
       "    </tr>\n",
       "  </tbody>\n",
       "</table>\n",
       "<p>1 rows × 71 columns</p>\n",
       "</div>"
      ],
      "text/plain": [
       "    Province/State Country/Region      Lat     Long  1/22/20  1/23/20  \\\n",
       "225            NaN             US  37.0902 -95.7129        0        0   \n",
       "\n",
       "     1/24/20  1/25/20  1/26/20  1/27/20  ...  3/19/20  3/20/20  3/21/20  \\\n",
       "225        0        0        0        0  ...      121      147      176   \n",
       "\n",
       "     3/22/20  3/23/20  3/24/20  3/25/20  3/26/20  3/27/20  3/28/20  \n",
       "225      178      178      348      361      681      869     1072  \n",
       "\n",
       "[1 rows x 71 columns]"
      ]
     },
     "execution_count": 167,
     "metadata": {},
     "output_type": "execute_result"
    }
   ],
   "source": [
    "#covid.loc[[p for p in range(231,247)]]\n",
    "covid.loc[[225]]"
   ]
  },
  {
   "cell_type": "code",
   "execution_count": 168,
   "metadata": {},
   "outputs": [
    {
     "name": "stdout",
     "output_type": "stream",
     "text": [
      "fra [116] lightsteelblue\n",
      "ger [120] peachpuff\n",
      "ita [137] lightgreen\n",
      "mex [158] grey\n",
      "spa [201] mistyrose\n",
      "uk [223] thistle\n",
      "can [36] orchid\n",
      "usa [225] blue\n"
     ]
    }
   ],
   "source": [
    "# Confirmed\n",
    "row_fra = [116]\n",
    "row_ger = [120]\n",
    "row_ita = [137]\n",
    "row_mex = [158]\n",
    "row_spa = [201]\n",
    "row_uk = [223]\n",
    "#row_can = [35, 36, 37, 38, 39, 40, 41, 42, 43, 44, 45, 231, 238, 245, 246]\n",
    "row_can = [36] # Recovered\n",
    "row_usa = [225]\n",
    "\n",
    "country = {'fra':row_fra, 'ger':row_ger, 'ita':row_ita, \n",
    "           'mex':row_mex, 'spa':row_spa, 'uk': row_uk, \n",
    "           'can':row_can, 'usa':row_usa}\n",
    "country_color = {'fra':'lightsteelblue', 'ger':'peachpuff', 'ita':'lightgreen', \n",
    "                 'mex':'grey', 'spa':'mistyrose', 'uk':'thistle', \n",
    "                 'can':'orchid', 'usa':'blue'}\n",
    "for k in country:\n",
    "    print(k, country[k], country_color[k])"
   ]
  },
  {
   "cell_type": "code",
   "execution_count": 169,
   "metadata": {},
   "outputs": [
    {
     "name": "stdout",
     "output_type": "stream",
     "text": [
      "[116]\n",
      "[120]\n",
      "[137]\n",
      "[158]\n",
      "[201]\n",
      "[223]\n",
      "[36]\n",
      "[225]\n"
     ]
    },
    {
     "data": {
      "text/plain": [
       "{'fra': array([4.0, 4.0, 4.0, 10.0], dtype=object),\n",
       " 'ger': array([], dtype=object),\n",
       " 'ita': array([1.0, 1.0, 3.0, 3.0, 3.0, 7.0, 7.0, 7.0, 9.0, 9.0, 10.0, 12.0, 12.0,\n",
       "        16.0, 16.0, 16.0, 18.0, 18.0, 22.0, 22.0, 22.0, 22.0, 27.0, 30.0,\n",
       "        30.0, 30.0, 41.0, 41.0, 135.0, 135.0, 118.0, 118.0, 247.0, 288.0,\n",
       "        333.0, 510.0, 510.0, 510.0, 1137.0, 1407.0, 1540.0, 1540.0, 1540.0,\n",
       "        1540.0, 2909.0, 2909.0, 3507.0, 3730.0, 4144.0, 4528.0, 4811.0],\n",
       "       dtype=object),\n",
       " 'mex': array([], dtype=object),\n",
       " 'spa': array([], dtype=object),\n",
       " 'uk': array([1.0, 1.0, 1.0, 1.0, 8.0, 8.0, 8.0, 8.0, 8.0, 8.0, 8.0, 8.0, 8.0,\n",
       "        8.0, 8.0, 8.0, 8.0, 8.0, 8.0, 8.0, 8.0, 8.0, 8.0, 8.0, 18.0, 18.0,\n",
       "        18.0, 18.0, 18.0, 18.0, 18.0, 18.0, 18.0, 20.0, 52.0, 65.0, 65.0,\n",
       "        65.0, 65.0, 65.0, 65.0, 135.0, 135.0, 135.0, 135.0, 135.0],\n",
       "       dtype=object),\n",
       " 'can': array([1.0, 1.0, 1.0, 1.0, 1.0, 1.0, 1.0, 1.0, 1.0, 3.0, 3.0, 3.0, 3.0,\n",
       "        3.0, 3.0, 6.0, 6.0, 6.0, 6.0, 6.0, 6.0, 6.0, 6.0, 6.0, 8.0, 8.0,\n",
       "        8.0, 8.0, 8.0, 8.0, 8.0, 8.0, 8.0, 9.0, 9.0, 9.0, 9.0, 9.0, 10.0,\n",
       "        10.0, 10.0, 110.0, 183.0, 184.0, 256.0, 466.0], dtype=object),\n",
       " 'usa': array([3.0, 3.0, 3.0, 3.0, 3.0, 3.0, 3.0, 3.0, 3.0, 3.0, 3.0, 3.0, 5.0,\n",
       "        5.0, 5.0, 5.0, 6.0, 6.0, 6.0, 7.0, 7.0, 7.0, 7.0, 7.0, 7.0, 7.0,\n",
       "        7.0, 7.0, 7.0, 7.0, 8.0, 8.0, 12.0, 12.0, 12.0, 12.0, 17.0, 17.0,\n",
       "        105.0, 121.0, 147.0, 176.0, 178.0, 178.0, 348.0, 361.0, 681.0,\n",
       "        869.0, 1072.0], dtype=object)}"
      ]
     },
     "execution_count": 169,
     "metadata": {},
     "output_type": "execute_result"
    }
   ],
   "source": [
    "country_info = {}\n",
    "for k in country:\n",
    "    country_info[k] = getInformation(covid, country[k])\n",
    "country_info"
   ]
  },
  {
   "cell_type": "code",
   "execution_count": 136,
   "metadata": {},
   "outputs": [
    {
     "name": "stdout",
     "output_type": "stream",
     "text": [
      "[1.0, 4.0, 5.0, 5.0, 5.0, 5.0, 5.0, 6.0, 6.0, 7.0, 7.0, 7.0, 8.0, 12.0, 12.0, 26.0, 41.0, 53.0, 82.0, 93.0, 118.0, 164.0, 203.0, 251.0, 316.0, 367.0, 405.0, 475.0, 585.0, 717.0, 848, 993]\n"
     ]
    },
    {
     "data": {
      "text/plain": [
       "array([  1.,   4.,   5.,   5.,   5.,   5.,   5.,   6.,   6.,   7.,   7.,\n",
       "         7.,   8.,  12.,  12.,  26.,  41.,  53.,  82.,  93., 118., 164.,\n",
       "       203., 251., 316., 367., 405., 475., 585., 717., 848., 993.])"
      ]
     },
     "execution_count": 136,
     "metadata": {},
     "output_type": "execute_result"
    }
   ],
   "source": [
    "# Mexico corrección - Confirmados\n",
    "mex_list = list(country_info['mex'])#.append(848)\n",
    "mex_list.append(848)\n",
    "mex_list.append(993)\n",
    "mex_list.append(1094)\n",
    "print(mex_list)\n",
    "country_info['mex'] = np.array(mex_list)\n",
    "country_info['mex']"
   ]
  },
  {
   "cell_type": "code",
   "execution_count": 104,
   "metadata": {},
   "outputs": [
    {
     "name": "stdout",
     "output_type": "stream",
     "text": [
      "[1.0, 1.0, 2.0, 2.0, 3.0, 4.0, 5.0, 6.0, 8.0, 12.0, 16, 20]\n"
     ]
    },
    {
     "data": {
      "text/plain": [
       "array([ 1.,  1.,  2.,  2.,  3.,  4.,  5.,  6.,  8., 12., 16., 20.])"
      ]
     },
     "execution_count": 104,
     "metadata": {},
     "output_type": "execute_result"
    }
   ],
   "source": [
    "# Mexico corrección - Defunciones\n",
    "mex_list = list(country_info['mex'])#.append(848)\n",
    "mex_list.append(16)\n",
    "mex_list.append(20)\n",
    "mex_list.append(28)\n",
    "print(mex_list)\n",
    "country_info['mex'] = np.array(mex_list)\n",
    "country_info['mex']"
   ]
  },
  {
   "cell_type": "code",
   "execution_count": 170,
   "metadata": {},
   "outputs": [],
   "source": [
    "thr = 1\n",
    "days_forecast = 60"
   ]
  },
  {
   "cell_type": "code",
   "execution_count": 171,
   "metadata": {},
   "outputs": [],
   "source": [
    "country_factor = {}\n",
    "for k in country_info:\n",
    "    country_factor[k] = calcFactor(country_info[k][country_info[k] >= thr])\n",
    "#country_factor"
   ]
  },
  {
   "cell_type": "code",
   "execution_count": 172,
   "metadata": {},
   "outputs": [],
   "source": [
    "country_forecast = {}\n",
    "for k in country_factor:\n",
    "    country_forecast[k] = forecast(days_forecast, country_factor[k][1], thr)\n",
    "#country_forecast"
   ]
  },
  {
   "cell_type": "code",
   "execution_count": 175,
   "metadata": {},
   "outputs": [],
   "source": [
    "total_days = 70\n",
    "xts = np.arange(0,total_days,5)"
   ]
  },
  {
   "cell_type": "code",
   "execution_count": 179,
   "metadata": {},
   "outputs": [
    {
     "data": {
      "text/plain": [
       "Text(0.5, 1.0, 'Confirmados con COVID-19 a partir del caso 100 (semilog)')"
      ]
     },
     "execution_count": 179,
     "metadata": {},
     "output_type": "execute_result"
    },
    {
     "data": {
      "image/png": "[encoded data removed]",
      "text/plain": [
       "<Figure size 1008x504 with 1 Axes>"
      ]
     },
     "metadata": {
      "needs_background": "light"
     },
     "output_type": "display_data"
    }
   ],
   "source": [
    "fig = plt.figure(figsize=(14,7))\n",
    "for k in country_info:\n",
    "#    print(k, sep='\\t')\n",
    "    pais = country_info[k][country_info[k] >= thr]\n",
    "    xp = [x for x in range(1,len(pais)+1)]\n",
    "    par = {'marker':'P', 'lw':'-', 'lw':3.00, 'c':country_color[k], 'label':k}\n",
    "    if k != 'mex':\n",
    "        plt.plot(xp, pais, **par)\n",
    "\n",
    "par = {'marker':'o', 'lw':'-', 'lw':2.00, 'c':'k', 'label':'mex'}\n",
    "pais = country_info['mex'][country_info['mex'] >= thr]\n",
    "xp = [x for x in range(1,len(pais)+1)]\n",
    "plt.plot(xp, pais, **par)\n",
    "\n",
    "#plt.plot(country_forecast['mex'],'--', lw = 1.0, c = 'k', label = 'México predicción')\n",
    "#plt.plot(country_forecast['usa'],'--', lw = 1.0, c = 'b', label = 'USA predicción')\n",
    "\n",
    "plt.xlim([1,total_days])#1 * len(Italy)])\n",
    "plt.ylim([thr-0.1,5000])\n",
    "plt.xlabel('Días')\n",
    "plt.ylabel('Casos confirmados COVID-19')\n",
    "#plt.ylabel('Defunciones COVID-19')\n",
    "plt.yscale('log')\n",
    "plt.xticks(ticks=xts, labels=xts)#, rotation='vertical')\n",
    "plt.minorticks_on()\n",
    "plt.legend()\n",
    "plt.grid()\n",
    "plt.title('Confirmados con COVID-19 a partir del caso 100 (semilog)')\n",
    "#plt.title('Defunciones desde el primer registro ...')\n",
    "#plt.savefig('Confirmados290320_02_.png')\n",
    "#plt.savefig('Defunciones290320.png')"
   ]
  },
  {
   "cell_type": "code",
   "execution_count": null,
   "metadata": {},
   "outputs": [],
   "source": [
    "fig = plt.figure(figsize=(10,5))\n",
    "it = Italy[Italy >= thr]\n",
    "sp = Spain[Spain >= thr]\n",
    "gr = Germany[Germany >= thr]\n",
    "fr = France[France >= thr]\n",
    "mx = Mexico[Mexico >= thr]\n",
    "\n",
    "plt.plot([x for x in range(1, len(it)+1)], it,'s-', lw = 3.00, c ='lightsteelblue', label ='Italia')\n",
    "#plt.plot(ita_future,'-', lw = 1.0, c ='lightsteelblue', label = 'Italia exp.')\n",
    "\n",
    "plt.plot([x for x in range(1, len(sp)+1)], sp,'s-', lw = 3.00, c = 'silver', label ='España')\n",
    "#plt.plot(spa_future,'-', lw = 1.0, c = 'silver', label = 'España exp.')\n",
    "\n",
    "plt.plot([x for x in range(1, len(gr)+1)], gr,'s-', lw = 3.00, c = 'pink', label = 'Alemania')\n",
    "#plt.plot(ger_future,'-', lw = 1.0, c = 'pink', label = 'Alemania exp.')\n",
    "\n",
    "plt.plot([x for x in range(1, len(mx)+1)], mx,'o-', lw = 2.00, c='k', label = 'México')\n",
    "plt.plot(mex_future,'-', lw = 1.0, c = 'k', label = 'México modelo.')\n",
    "\n",
    "plt.xlim([1,total_days])#1 * len(Italy)])\n",
    "plt.ylim([thr,1000])\n",
    "plt.xlabel('Días')\n",
    "plt.ylabel('Casos confirmados COVID-19')\n",
    "#plt.yscale('log')\n",
    "plt.xticks(ticks=xts, labels=xts)#, rotation='vertical')\n",
    "plt.minorticks_on()\n",
    "plt.legend()\n",
    "plt.grid()\n",
    "plt.title('(E+1) = 1.3104184497820976')\n",
    "#plt.title('A partir de 20 o más casos confirmados, modelo exponencial - futuro (semi-log)')\n",
    "#plt.savefig('fig2_log.pdf')"
   ]
  },
  {
   "cell_type": "code",
   "execution_count": null,
   "metadata": {},
   "outputs": [],
   "source": [
    "mex_list = list(Mexico)\n",
    "mex_list.append(848)\n",
    "Mexico = np.array(mex_list)\n",
    "Mexico"
   ]
  },
  {
   "cell_type": "code",
   "execution_count": null,
   "metadata": {},
   "outputs": [],
   "source": [
    "mex_dead = getInformation(corvid_dead, row_mex)\n",
    "mex_dead_list = list(mex_dead)\n",
    "mex_dead_list.append(8)\n",
    "mex_dead = np.array(mex_dead_list)\n",
    "mex_dead\n"
   ]
  },
  {
   "cell_type": "code",
   "execution_count": null,
   "metadata": {},
   "outputs": [],
   "source": [
    "spa_dead = getInformation(corvid_dead, row_spa)\n",
    "spa_dead"
   ]
  },
  {
   "cell_type": "code",
   "execution_count": null,
   "metadata": {},
   "outputs": [],
   "source": [
    "ita_dead = getInformation(corvid_dead, row_ita)\n",
    "ita_dead"
   ]
  },
  {
   "cell_type": "code",
   "execution_count": null,
   "metadata": {},
   "outputs": [],
   "source": [
    "ger_dead = getInformation(corvid_dead, row_ger)\n",
    "ger_dead"
   ]
  },
  {
   "cell_type": "code",
   "execution_count": null,
   "metadata": {},
   "outputs": [],
   "source": [
    "fig = plt.figure(figsize=(10,5))\n",
    "it = ita_dead[ita_dead >= thr]\n",
    "sp = spa_dead[spa_dead >= thr]\n",
    "gr = ger_dead[ger_dead >= thr]\n",
    "mx = mex_dead[mex_dead >= thr]\n",
    "\n",
    "plt.plot([x for x in range(1, len(it)+1)], it,'s-', lw = 3.00, c ='lightsteelblue', label ='Italia')\n",
    "#plt.plot(ita_future,'-', lw = 1.0, c ='lightsteelblue', label = 'Italia exp.')\n",
    "\n",
    "plt.plot([x for x in range(1, len(sp)+1)], sp,'s-', lw = 3.00, c = 'silver', label ='España')\n",
    "#plt.plot(spa_future,'-', lw = 1.0, c = 'silver', label = 'España exp.')\n",
    "\n",
    "plt.plot([x for x in range(1, len(gr)+1)], gr,'s-', lw = 3.00, c = 'pink', label = 'Alemania')\n",
    "#plt.plot(ger_future,'-', lw = 1.0, c = 'pink', label = 'Alemania exp.')\n",
    "\n",
    "plt.plot([x for x in range(1, len(mx)+1)], mx,'o-', lw = 2.00, c='k', label = 'México')\n",
    "#plt.plot(mex_future,'-', lw = 1.0, c = 'k', label = 'México modelo.')\n",
    "\n",
    "total_days = 40\n",
    "xts = np.arange(0,total_days,5)\n",
    "\n",
    "plt.xlim([1,total_days])#1 * len(Italy)])\n",
    "plt.ylim([thr,100])\n",
    "plt.xlabel('Días')\n",
    "plt.ylabel('Muertes por COVID-19')\n",
    "#plt.yscale('log')\n",
    "plt.xticks(ticks=xts, labels=xts)#, rotation='vertical')\n",
    "plt.minorticks_on()\n",
    "plt.legend()\n",
    "plt.grid()\n",
    "plt.title('(E+1) = 1.3104184497820976')\n",
    "#plt.title('A partir de 20 o más casos confirmados, modelo exponencial - futuro (semi-log)')\n",
    "#plt.savefig('fig2_log.pdf')"
   ]
  },
  {
   "cell_type": "code",
   "execution_count": null,
   "metadata": {},
   "outputs": [],
   "source": []
  }
 ],
 "metadata": {
  "kernelspec": {
   "display_name": "Python 3",
   "language": "python",
   "name": "python3"
  },
  "language_info": {
   "codemirror_mode": {
    "name": "ipython",
    "version": 3
   },
   "file_extension": ".py",
   "mimetype": "text/x-python",
   "name": "python",
   "nbconvert_exporter": "python",
   "pygments_lexer": "ipython3",
   "version": "3.7.6"
  }
 },
 "nbformat": 4,
 "nbformat_minor": 4
}
