{
 "cells": [
  {
   "cell_type": "code",
   "execution_count": 1,
   "metadata": {},
   "outputs": [],
   "source": [
    "import numpy as np\n",
    "import matplotlib.pyplot as plt\n",
    "%matplotlib inline\n",
    "import pandas as pd "
   ]
  },
  {
   "cell_type": "code",
   "execution_count": 2,
   "metadata": {},
   "outputs": [],
   "source": [
    "#plt.style.use('Solarize_Light2')\n",
    "#plt.style.use('dark_background')\n",
    "#plt.style.use('classic')\n",
    "#plt.style.use('seaborn')\n",
    "#plt.style.use('ggplot')\n",
    "#plt.style.use('seaborn-darkgrid')\n",
    "#plt.style.use('seaborn-white')\n",
    "plt.style.use('fivethirtyeight')"
   ]
  },
  {
   "cell_type": "code",
   "execution_count": 3,
   "metadata": {},
   "outputs": [],
   "source": [
    "def getInformation(data, country_id):\n",
    "    print(country_id)\n",
    "    suma = np.zeros(77)\n",
    "    for i in country_id:\n",
    "        country = data.loc[[i]]\n",
    "        dummy = country.values[0][4:]\n",
    "        suma = suma + dummy\n",
    "    return suma[suma >= 1]\n",
    "\n",
    "def calcFactor(x):\n",
    "    suma = 0\n",
    "    N = len(x)\n",
    "    for i,p in enumerate(range(N-1)):\n",
    "        suma +=  x[i+1]/x[i]\n",
    "    \n",
    "    F = suma / (N - 1)\n",
    "    return N, F\n",
    "\n",
    "def forecast(days, factor, start):\n",
    "    xp = [start]\n",
    "    for i in range(1, days):\n",
    "        xp.append(xp[i-1] * factor)\n",
    "    return xp"
   ]
  },
  {
   "cell_type": "code",
   "execution_count": 40,
   "metadata": {},
   "outputs": [],
   "source": [
    "file = 'time_series_covid19_confirmed_global.csv'\n",
    "#covid = pd.read_csv(file)\n",
    "path = '/home/luiggi/GitSites/COVID-19/csse_covid_19_data/csse_covid_19_time_series/'\n",
    "covid = pd.read_csv(path + file)"
   ]
  },
  {
   "cell_type": "code",
   "execution_count": 49,
   "metadata": {},
   "outputs": [],
   "source": [
    "file = 'time_series_covid19_deaths_global.csv'\n",
    "#covid = pd.read_csv(file)\n",
    "path = '/home/luiggi/GitSites/COVID-19/csse_covid_19_data/csse_covid_19_time_series/'\n",
    "covid = pd.read_csv(path + file)"
   ]
  },
  {
   "cell_type": "code",
   "execution_count": null,
   "metadata": {},
   "outputs": [],
   "source": [
    "file = 'time_series_covid19_recovered_global.csv'\n",
    "#path = '/home/luiggi/GitSites/COVID-19/csse_covid_19_data/csse_covid_19_time_series/'\n",
    "covid = pd.read_csv(file)"
   ]
  },
  {
   "cell_type": "code",
   "execution_count": null,
   "metadata": {},
   "outputs": [],
   "source": [
    "for i, p in enumerate(covid['Country/Region']):\n",
    "    if p == 'Ecuador':\n",
    "        print(i,p)"
   ]
  },
  {
   "cell_type": "code",
   "execution_count": null,
   "metadata": {},
   "outputs": [],
   "source": [
    "#covid.loc[[p for p in range(231,247)]]\n",
    "covid.loc[[225]]"
   ]
  },
  {
   "cell_type": "code",
   "execution_count": 50,
   "metadata": {},
   "outputs": [
    {
     "name": "stdout",
     "output_type": "stream",
     "text": [
      "ecu [97] blue\n",
      "mex [158] grey\n"
     ]
    }
   ],
   "source": [
    "# Confirmed\n",
    "row_ecu = [97]\n",
    "row_fra = [116]\n",
    "row_ger = [120]\n",
    "row_ita = [137]\n",
    "row_mex = [158]\n",
    "row_spa = [201]\n",
    "row_uk = [223]\n",
    "row_can = [35, 36, 37, 38, 39, 40, 41, 42, 43, 44, 45, 231, 238, 245, 246]\n",
    "#row_can = [36] # Recovered\n",
    "row_usa = [225]\n",
    "\n",
    "country = {'ecu':row_ecu,\n",
    "#           'fra':row_fra, \n",
    "#           'ger':row_ger, \n",
    "#           'ita':row_ita, \n",
    "           'mex':row_mex, \n",
    "#           'spa':row_spa, \n",
    "#           'uk': row_uk, \n",
    "#           'can':row_can, \n",
    "#           'usa':row_usa\n",
    "          }\n",
    "country_color = {'ecu':'blue',\n",
    "#                 'fra':'#7CCBA2',#'lightsteelblue', \n",
    "#                 'ger':'peachpuff', \n",
    "#                 'ita':'lightgreen', \n",
    "                 'mex':'grey', \n",
    "#                 'spa':'mistyrose', \n",
    "#                 'uk':'thistle', \n",
    "#                 'can':'orchid', \n",
    "#                 'usa':'blue'\n",
    "                }\n",
    "for k in country:\n",
    "    print(k, country[k], country_color[k])"
   ]
  },
  {
   "cell_type": "code",
   "execution_count": 51,
   "metadata": {
    "scrolled": true
   },
   "outputs": [
    {
     "name": "stdout",
     "output_type": "stream",
     "text": [
      "[97]\n",
      "[158]\n"
     ]
    },
    {
     "data": {
      "text/plain": [
       "{'ecu': array([2.0, 2.0, 2.0, 2.0, 2.0, 3.0, 5.0, 7.0, 14.0, 18.0, 27.0, 28.0,\n",
       "        34.0, 36.0, 48.0, 58.0, 60.0, 75.0, 93.0, 120.0, 145.0, 172.0,\n",
       "        180.0, 191.0, 191.0], dtype=object),\n",
       " 'mex': array([1.0, 1.0, 2.0, 2.0, 3.0, 4.0, 5.0, 6.0, 8.0, 12.0, 16.0, 20.0,\n",
       "        28.0, 29.0, 37.0, 50.0, 60.0, 79.0, 94.0, 125.0], dtype=object)}"
      ]
     },
     "execution_count": 51,
     "metadata": {},
     "output_type": "execute_result"
    }
   ],
   "source": [
    "country_info = {}\n",
    "for k in country:\n",
    "    country_info[k] = getInformation(covid, country[k])\n",
    "country_info"
   ]
  },
  {
   "cell_type": "code",
   "execution_count": 43,
   "metadata": {},
   "outputs": [
    {
     "name": "stdout",
     "output_type": "stream",
     "text": [
      "[1.0, 4.0, 5.0, 5.0, 5.0, 5.0, 5.0, 6.0, 6.0, 7.0, 7.0, 7.0, 8.0, 12.0, 12.0, 26.0, 41.0, 53.0, 82.0, 93.0, 118.0, 164.0, 203.0, 251.0, 316.0, 367.0, 405.0, 475.0, 585.0, 717.0, 848.0, 993.0, 1094.0, 1215.0, 1378.0, 1510.0, 1688.0, 1890.0, 2143.0, 2439.0, 2785]\n"
     ]
    },
    {
     "data": {
      "text/plain": [
       "array([1.000e+00, 4.000e+00, 5.000e+00, 5.000e+00, 5.000e+00, 5.000e+00,\n",
       "       5.000e+00, 6.000e+00, 6.000e+00, 7.000e+00, 7.000e+00, 7.000e+00,\n",
       "       8.000e+00, 1.200e+01, 1.200e+01, 2.600e+01, 4.100e+01, 5.300e+01,\n",
       "       8.200e+01, 9.300e+01, 1.180e+02, 1.640e+02, 2.030e+02, 2.510e+02,\n",
       "       3.160e+02, 3.670e+02, 4.050e+02, 4.750e+02, 5.850e+02, 7.170e+02,\n",
       "       8.480e+02, 9.930e+02, 1.094e+03, 1.215e+03, 1.378e+03, 1.510e+03,\n",
       "       1.688e+03, 1.890e+03, 2.143e+03, 2.439e+03, 2.785e+03])"
      ]
     },
     "execution_count": 43,
     "metadata": {},
     "output_type": "execute_result"
    }
   ],
   "source": [
    "# Mexico corrección - Confirmados\n",
    "mex_list = list(country_info['mex'])\n",
    "mex_list.append(2785)\n",
    "print(mex_list)\n",
    "country_info['mex'] = np.array(mex_list)\n",
    "country_info['mex']"
   ]
  },
  {
   "cell_type": "code",
   "execution_count": 52,
   "metadata": {},
   "outputs": [
    {
     "name": "stdout",
     "output_type": "stream",
     "text": [
      "[1.0, 1.0, 2.0, 2.0, 3.0, 4.0, 5.0, 6.0, 8.0, 12.0, 16.0, 20.0, 28.0, 29.0, 37.0, 50.0, 60.0, 79.0, 94.0, 125.0, 141]\n"
     ]
    },
    {
     "data": {
      "text/plain": [
       "array([  1.,   1.,   2.,   2.,   3.,   4.,   5.,   6.,   8.,  12.,  16.,\n",
       "        20.,  28.,  29.,  37.,  50.,  60.,  79.,  94., 125., 141.])"
      ]
     },
     "execution_count": 52,
     "metadata": {},
     "output_type": "execute_result"
    }
   ],
   "source": [
    "# Mexico corrección - Defunciones\n",
    "mex_list = list(country_info['mex'])#.append(848)\n",
    "mex_list.append(141)\n",
    "print(mex_list)\n",
    "country_info['mex'] = np.array(mex_list)\n",
    "country_info['mex']"
   ]
  },
  {
   "cell_type": "code",
   "execution_count": 53,
   "metadata": {},
   "outputs": [],
   "source": [
    "thr = 1\n",
    "days_forecast = 70"
   ]
  },
  {
   "cell_type": "code",
   "execution_count": 54,
   "metadata": {},
   "outputs": [],
   "source": [
    "country_factor = {}\n",
    "for k in country_info:\n",
    "    country_factor[k] = calcFactor(country_info[k][country_info[k] >= thr])\n",
    "#country_factor"
   ]
  },
  {
   "cell_type": "code",
   "execution_count": 55,
   "metadata": {},
   "outputs": [],
   "source": [
    "country_forecast = {}\n",
    "for k in country_factor:\n",
    "    country_forecast[k] = forecast(days_forecast, country_factor[k][1], thr)\n",
    "#country_forecast"
   ]
  },
  {
   "cell_type": "code",
   "execution_count": 58,
   "metadata": {},
   "outputs": [],
   "source": [
    "total_days = 28\n",
    "xts = np.arange(0,total_days,7)"
   ]
  },
  {
   "cell_type": "code",
   "execution_count": 60,
   "metadata": {
    "scrolled": false
   },
   "outputs": [
    {
     "data": {
      "image/png": "[encoded data removed]",
      "text/plain": [
       "<Figure size 1008x504 with 1 Axes>"
      ]
     },
     "metadata": {},
     "output_type": "display_data"
    }
   ],
   "source": [
    "fig = plt.figure(figsize=(14,7))\n",
    "for k in country_info:\n",
    "#    print(k, sep='\\t')\n",
    "    pais = country_info[k][country_info[k] >= thr]\n",
    "    xp = [x for x in range(1,len(pais)+1)]\n",
    "    par = {'marker':'', 'lw':'-', 'lw':6.00, 'c':country_color[k], 'label':k}\n",
    "    pars = {'marker':'o', 's':30.0, 'c':'k'}#country_color[k]}\n",
    "    if k != 'mex':\n",
    "#        plt.scatter(xp[-2:], pais[-2:], **pars)\n",
    "        plt.scatter(xp, pais, **pars)\n",
    "        plt.plot(xp, pais, **par)\n",
    "#        plt.text(x = xp[-1], y = pais[-1], c = country_color[k], s = k, weight = 'bold')\n",
    "    \n",
    "    \n",
    "par = {'marker':'o', 'lw':'-', 'lw':3.00, 'c':'k', 'label':'mex'}\n",
    "pais = country_info['mex'][country_info['mex'] >= thr]\n",
    "xp = [x for x in range(1,len(pais)+1)]\n",
    "plt.plot(xp, pais, **par)\n",
    "\n",
    "#plt.plot(country_forecast['mex'],'--', lw = 2.0, c = 'k', label = 'México predicción')\n",
    "#plt.plot(country_forecast['usa'],'--', lw = 2.0, c = 'b', label = 'USA predicción')\n",
    "#plt.plot(country_forecast['ecu'],'--', lw = 2.0, c = 'gray', label = 'Ecuador predicción')\n",
    "\n",
    "plt.xlim([1,total_days])#1 * len(Italy)])\n",
    "plt.ylim([thr-0.1,200])\n",
    "plt.xlabel('Días')\n",
    "#plt.ylabel('Casos confirmados COVID-19')\n",
    "plt.ylabel('Defunciones COVID-19')\n",
    "#plt.yscale('log')\n",
    "plt.xticks(ticks=xts, labels=xts)#, rotation='vertical')\n",
    "plt.minorticks_on()\n",
    "plt.legend()\n",
    "plt.grid(color='#d4d4d4')\n",
    "#plt.title('Confirmados con COVID-19 a partir del caso 1')\n",
    "plt.title('Defunciones desde el primer registro ...')\n",
    "#plt.savefig('Confirmados290320_02_.png')\n",
    "plt.savefig('Defunciones290320.png')\n",
    "plt.show()"
   ]
  },
  {
   "cell_type": "code",
   "execution_count": null,
   "metadata": {},
   "outputs": [],
   "source": []
  },
  {
   "cell_type": "code",
   "execution_count": null,
   "metadata": {},
   "outputs": [],
   "source": []
  }
 ],
 "metadata": {
  "kernelspec": {
   "display_name": "Python 3",
   "language": "python",
   "name": "python3"
  },
  "language_info": {
   "codemirror_mode": {
    "name": "ipython",
    "version": 3
   },
   "file_extension": ".py",
   "mimetype": "text/x-python",
   "name": "python",
   "nbconvert_exporter": "python",
   "pygments_lexer": "ipython3",
   "version": "3.7.6"
  }
 },
 "nbformat": 4,
 "nbformat_minor": 4
}
