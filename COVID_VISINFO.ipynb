{
 "cells": [
  {
   "cell_type": "code",
   "execution_count": 1,
   "metadata": {},
   "outputs": [],
   "source": [
    "import numpy as np\n",
    "import matplotlib.pyplot as plt\n",
    "%matplotlib inline\n",
    "import pandas as pd \n",
    "from math import ceil"
   ]
  },
  {
   "cell_type": "code",
   "execution_count": null,
   "metadata": {},
   "outputs": [],
   "source": [
    "#plt.style.use('Solarize_Light2')\n",
    "#plt.style.use('dark_background')\n",
    "#plt.style.use('classic')\n",
    "#plt.style.use('seaborn')\n",
    "#plt.style.use('ggplot')\n",
    "#plt.style.use('seaborn-darkgrid')\n",
    "#plt.style.use('seaborn-white')\n",
    "#plt.style.use('fivethirtyeight')"
   ]
  },
  {
   "cell_type": "code",
   "execution_count": 6,
   "metadata": {},
   "outputs": [],
   "source": [
    "def getInformation(data, country_id):\n",
    "    print(country_id)\n",
    "    suma = np.zeros(96)\n",
    "    for i in country_id:\n",
    "        country = data.loc[[i]]\n",
    "        dummy = country.values[0][4:]\n",
    "        suma = suma + dummy\n",
    "    return suma[suma >= 1]\n",
    "\n",
    "def calcFactor(x):\n",
    "    suma = 0\n",
    "    N = len(x)\n",
    "    for i,p in enumerate(range(N-1)):\n",
    "        suma +=  x[i+1]/x[i]\n",
    "    \n",
    "    F = suma / (N - 1)\n",
    "    return N, F\n",
    "\n",
    "def forecast(days, factor, start):\n",
    "    xp = [start]\n",
    "    for i in range(1, days):\n",
    "        xp.append(xp[i-1] * factor)\n",
    "    return xp"
   ]
  },
  {
   "cell_type": "code",
   "execution_count": 3,
   "metadata": {},
   "outputs": [],
   "source": [
    "file = 'time_series_covid19_confirmed_global.csv'\n",
    "covid = pd.read_csv(file)\n",
    "#path = '/home/luiggi/GitSites/COVID-19/csse_covid_19_data/csse_covid_19_time_series/'\n",
    "#covid = pd.read_csv(path + file)"
   ]
  },
  {
   "cell_type": "code",
   "execution_count": null,
   "metadata": {},
   "outputs": [],
   "source": [
    "file = 'time_series_covid19_deaths_global.csv'\n",
    "covid = pd.read_csv(file)\n",
    "#path = '/home/luiggi/GitSites/COVID-19/csse_covid_19_data/csse_covid_19_time_series/'\n",
    "#covid = pd.read_csv(path + file)"
   ]
  },
  {
   "cell_type": "code",
   "execution_count": null,
   "metadata": {},
   "outputs": [],
   "source": [
    "file = 'time_series_covid19_recovered_global.csv'\n",
    "#path = '/home/luiggi/GitSites/COVID-19/csse_covid_19_data/csse_covid_19_time_series/'\n",
    "covid = pd.read_csv(file)"
   ]
  },
  {
   "cell_type": "code",
   "execution_count": null,
   "metadata": {},
   "outputs": [],
   "source": [
    "for i, p in enumerate(covid['Country/Region']):\n",
    "    if p == 'Brazil':\n",
    "        print(i,p)"
   ]
  },
  {
   "cell_type": "code",
   "execution_count": null,
   "metadata": {},
   "outputs": [],
   "source": [
    "#covid.loc[[p for p in range(231,247)]]\n",
    "covid.loc[[225]]"
   ]
  },
  {
   "cell_type": "code",
   "execution_count": 4,
   "metadata": {},
   "outputs": [
    {
     "name": "stdout",
     "output_type": "stream",
     "text": [
      "bra [28] brown\n",
      "fra [116] lightsteelblue\n",
      "ger [120] peachpuff\n",
      "ita [137] lightgreen\n",
      "mex [158] grey\n",
      "spa [201] mistyrose\n",
      "uk [223] thistle\n",
      "usa [225] blue\n"
     ]
    }
   ],
   "source": [
    "# Confirmed\n",
    "row_bra = [28]\n",
    "row_ecu = [97]\n",
    "row_fra = [116]\n",
    "row_ger = [120]\n",
    "row_ita = [137]\n",
    "row_mex = [158]\n",
    "row_spa = [201]\n",
    "row_uk = [223]\n",
    "row_can = [35, 36, 37, 38, 39, 40, 41, 42, 43, 44, 45, 231, 238, 245, 246]\n",
    "#row_can = [36] # Recovered\n",
    "row_usa = [225]\n",
    "\n",
    "country = {'bra':row_bra,\n",
    "            #'ecu':row_ecu,\n",
    "           'fra':row_fra, \n",
    "           'ger':row_ger, \n",
    "           'ita':row_ita, \n",
    "           'mex':row_mex, \n",
    "           'spa':row_spa, \n",
    "           'uk': row_uk, \n",
    "           #'can':row_can, \n",
    "           'usa':row_usa\n",
    "          }\n",
    "country_color = {'bra':'brown',\n",
    "                #'ecu':'#7CCBA2',\n",
    "                 'fra':'lightsteelblue', \n",
    "                 'ger':'peachpuff', \n",
    "                 'ita':'lightgreen', \n",
    "                 'mex':'grey', \n",
    "                 'spa':'mistyrose', \n",
    "                 'uk':'thistle', \n",
    "                 #'can':'orchid', \n",
    "                 'usa':'blue'\n",
    "                }\n",
    "for k in country:\n",
    "    print(k, country[k], country_color[k])"
   ]
  },
  {
   "cell_type": "code",
   "execution_count": 7,
   "metadata": {
    "scrolled": true
   },
   "outputs": [
    {
     "name": "stdout",
     "output_type": "stream",
     "text": [
      "[28]\n",
      "[116]\n",
      "[120]\n",
      "[137]\n",
      "[158]\n",
      "[201]\n",
      "[223]\n",
      "[225]\n"
     ]
    },
    {
     "data": {
      "text/plain": [
       "{'bra': array([1.0, 1.0, 1.0, 2.0, 2.0, 2.0, 2.0, 4.0, 4.0, 13.0, 13.0, 20.0,\n",
       "        25.0, 31.0, 38.0, 52.0, 151.0, 151.0, 162.0, 200.0, 321.0, 372.0,\n",
       "        621.0, 793.0, 1021.0, 1546.0, 1924.0, 2247.0, 2554.0, 2985.0,\n",
       "        3417.0, 3904.0, 4256.0, 4579.0, 5717.0, 6836.0, 8044.0, 9056.0,\n",
       "        10360.0, 11130.0, 12161.0, 14034.0, 16170.0, 18092.0, 19638.0,\n",
       "        20727.0, 22192.0, 23430.0, 25262.0, 28320.0, 30425.0, 33682.0,\n",
       "        36658.0, 38654.0, 40743.0, 43079.0, 45757.0, 50036.0, 54043.0,\n",
       "        59324.0, 63100.0], dtype=object),\n",
       " 'fra': array([2.0, 3.0, 3.0, 3.0, 4.0, 5.0, 5.0, 5.0, 6.0, 6.0, 6.0, 6.0, 6.0,\n",
       "        6.0, 6.0, 11.0, 11.0, 11.0, 11.0, 11.0, 11.0, 11.0, 12.0, 12.0,\n",
       "        12.0, 12.0, 12.0, 12.0, 12.0, 12.0, 12.0, 12.0, 14.0, 18.0, 38.0,\n",
       "        57.0, 100.0, 130.0, 191.0, 204.0, 285.0, 377.0, 653.0, 949.0,\n",
       "        1126.0, 1209.0, 1784.0, 2281.0, 2281.0, 3661.0, 4469.0, 4499.0,\n",
       "        6633.0, 7652.0, 9043.0, 10871.0, 12612.0, 14282.0, 16018.0,\n",
       "        19856.0, 22304.0, 25233.0, 29155.0, 32964.0, 37575.0, 40174.0,\n",
       "        44550.0, 52128.0, 56989.0, 59105.0, 64338.0, 68605.0, 70478.0,\n",
       "        74390.0, 78167.0, 82048.0, 86334.0, 90676.0, 93790.0, 120633.0,\n",
       "        124298.0, 129257.0, 132473.0, 144944.0, 146923.0, 146906.0,\n",
       "        151808.0, 154188.0, 156921.0, 154715.0, 157026.0, 158636.0,\n",
       "        160292.0, 160847.0], dtype=object),\n",
       " 'ger': array([1.0, 4.0, 4.0, 4.0, 5.0, 8.0, 10.0, 12.0, 12.0, 12.0, 12.0, 13.0,\n",
       "        13.0, 14.0, 14.0, 16.0, 16.0, 16.0, 16.0, 16.0, 16.0, 16.0, 16.0,\n",
       "        16.0, 16.0, 16.0, 16.0, 16.0, 16.0, 17.0, 27.0, 46.0, 48.0, 79.0,\n",
       "        130.0, 159.0, 196.0, 262.0, 482.0, 670.0, 799.0, 1040.0, 1176.0,\n",
       "        1457.0, 1908.0, 2078.0, 3675.0, 4585.0, 5795.0, 7272.0, 9257.0,\n",
       "        12327.0, 15320.0, 19848.0, 22213.0, 24873.0, 29056.0, 32986.0,\n",
       "        37323.0, 43938.0, 50871.0, 57695.0, 62095.0, 66885.0, 71808.0,\n",
       "        77872.0, 84794.0, 91159.0, 96092.0, 100123.0, 103374.0, 107663.0,\n",
       "        113296.0, 118181.0, 122171.0, 124908.0, 127854.0, 130072.0,\n",
       "        131359.0, 134753.0, 137698.0, 141397.0, 143342.0, 145184.0,\n",
       "        147065.0, 148291.0, 150648.0, 153129.0, 154999.0, 156513.0,\n",
       "        157770.0], dtype=object),\n",
       " 'ita': array([2.0, 2.0, 2.0, 2.0, 2.0, 2.0, 2.0, 3.0, 3.0, 3.0, 3.0, 3.0, 3.0,\n",
       "        3.0, 3.0, 3.0, 3.0, 3.0, 3.0, 3.0, 3.0, 20.0, 62.0, 155.0, 229.0,\n",
       "        322.0, 453.0, 655.0, 888.0, 1128.0, 1694.0, 2036.0, 2502.0, 3089.0,\n",
       "        3858.0, 4636.0, 5883.0, 7375.0, 9172.0, 10149.0, 12462.0, 12462.0,\n",
       "        17660.0, 21157.0, 24747.0, 27980.0, 31506.0, 35713.0, 41035.0,\n",
       "        47021.0, 53578.0, 59138.0, 63927.0, 69176.0, 74386.0, 80589.0,\n",
       "        86498.0, 92472.0, 97689.0, 101739.0, 105792.0, 110574.0, 115242.0,\n",
       "        119827.0, 124632.0, 128948.0, 132547.0, 135586.0, 139422.0,\n",
       "        143626.0, 147577.0, 152271.0, 156363.0, 159516.0, 162488.0,\n",
       "        165155.0, 168941.0, 172434.0, 175925.0, 178972.0, 181228.0,\n",
       "        183957.0, 187327.0, 189973.0, 192994.0, 195351.0, 197675.0],\n",
       "       dtype=object),\n",
       " 'mex': array([1.0, 4.0, 5.0, 5.0, 5.0, 5.0, 5.0, 6.0, 6.0, 7.0, 7.0, 7.0, 8.0,\n",
       "        12.0, 26.0, 41.0, 53.0, 82.0, 93.0, 118.0, 164.0, 203.0, 251.0,\n",
       "        316.0, 367.0, 405.0, 475.0, 585.0, 717.0, 848.0, 993.0, 1094.0,\n",
       "        1215.0, 1378.0, 1510.0, 1688.0, 1890.0, 2143.0, 2439.0, 2785.0,\n",
       "        3181.0, 3441.0, 3844.0, 4219.0, 4661.0, 5014.0, 5399.0, 5847.0,\n",
       "        6297.0, 6875.0, 7497.0, 8261.0, 8772.0, 9501.0, 10544.0, 11633.0,\n",
       "        12872.0, 13842.0, 14677.0], dtype=object),\n",
       " 'spa': array([1.0, 1.0, 1.0, 1.0, 1.0, 1.0, 1.0, 1.0, 2.0, 2.0, 2.0, 2.0, 2.0,\n",
       "        2.0, 2.0, 2.0, 2.0, 2.0, 2.0, 2.0, 2.0, 2.0, 2.0, 2.0, 6.0, 13.0,\n",
       "        15.0, 32.0, 45.0, 84.0, 120.0, 165.0, 222.0, 259.0, 400.0, 500.0,\n",
       "        673.0, 1073.0, 1695.0, 2277.0, 2277.0, 5232.0, 6391.0, 7798.0,\n",
       "        9942.0, 11748.0, 13910.0, 17963.0, 20410.0, 25374.0, 28768.0,\n",
       "        35136.0, 39885.0, 49515.0, 57786.0, 65719.0, 73235.0, 80110.0,\n",
       "        87956.0, 95923.0, 104118.0, 112065.0, 119199.0, 126168.0, 131646.0,\n",
       "        136675.0, 141942.0, 148220.0, 153222.0, 158273.0, 163027.0,\n",
       "        166831.0, 170099.0, 172541.0, 177644.0, 184948.0, 190839.0,\n",
       "        191726.0, 198674.0, 200210.0, 204178.0, 208389.0, 213024.0,\n",
       "        219764.0, 223759.0, 226629.0], dtype=object),\n",
       " 'uk': array([2.0, 2.0, 2.0, 2.0, 2.0, 2.0, 2.0, 3.0, 3.0, 3.0, 8.0, 8.0, 9.0,\n",
       "        9.0, 9.0, 9.0, 9.0, 9.0, 9.0, 9.0, 9.0, 9.0, 9.0, 9.0, 13.0, 13.0,\n",
       "        13.0, 15.0, 20.0, 23.0, 36.0, 40.0, 51.0, 85.0, 115.0, 163.0,\n",
       "        206.0, 273.0, 321.0, 382.0, 456.0, 456.0, 798.0, 1140.0, 1140.0,\n",
       "        1543.0, 1950.0, 2626.0, 2689.0, 3983.0, 5018.0, 5683.0, 6650.0,\n",
       "        8077.0, 9529.0, 11658.0, 14543.0, 17089.0, 19522.0, 22141.0,\n",
       "        25150.0, 29474.0, 33718.0, 38168.0, 41903.0, 47806.0, 51608.0,\n",
       "        55242.0, 60733.0, 65077.0, 73758.0, 78991.0, 84279.0, 88621.0,\n",
       "        93873.0, 98476.0, 103093.0, 108692.0, 114217.0, 120067.0, 124743.0,\n",
       "        129044.0, 133495.0, 138078.0, 143464.0, 148377.0, 152840.0],\n",
       "       dtype=object),\n",
       " 'usa': array([1.0, 1.0, 2.0, 2.0, 5.0, 5.0, 5.0, 5.0, 5.0, 7.0, 8.0, 8.0, 11.0,\n",
       "        11.0, 11.0, 11.0, 11.0, 11.0, 11.0, 11.0, 12.0, 12.0, 13.0, 13.0,\n",
       "        13.0, 13.0, 13.0, 13.0, 13.0, 13.0, 15.0, 15.0, 15.0, 51.0, 51.0,\n",
       "        57.0, 58.0, 60.0, 68.0, 74.0, 98.0, 118.0, 149.0, 217.0, 262.0,\n",
       "        402.0, 518.0, 583.0, 959.0, 1281.0, 1663.0, 2179.0, 2727.0, 3499.0,\n",
       "        4632.0, 6421.0, 7783.0, 13747.0, 19273.0, 25600.0, 33276.0,\n",
       "        43843.0, 53736.0, 65778.0, 83836.0, 101657.0, 121465.0, 140909.0,\n",
       "        161831.0, 188172.0, 213242.0, 243622.0, 275367.0, 308650.0,\n",
       "        336802.0, 366317.0, 397121.0, 428654.0, 462780.0, 496535.0,\n",
       "        526396.0, 555313.0, 580619.0, 607670.0, 636350.0, 667592.0,\n",
       "        699706.0, 732197.0, 758809.0, 784326.0, 811865.0, 840351.0,\n",
       "        869170.0, 905358.0, 938154.0, 965785.0], dtype=object)}"
      ]
     },
     "execution_count": 7,
     "metadata": {},
     "output_type": "execute_result"
    }
   ],
   "source": [
    "country_info = {}\n",
    "for k in country:\n",
    "    country_info[k] = getInformation(covid, country[k])\n",
    "country_info"
   ]
  },
  {
   "cell_type": "code",
   "execution_count": 8,
   "metadata": {},
   "outputs": [
    {
     "name": "stdout",
     "output_type": "stream",
     "text": [
      "[1.0, 4.0, 5.0, 5.0, 5.0, 5.0, 5.0, 6.0, 6.0, 7.0, 7.0, 7.0, 8.0, 12.0, 26.0, 41.0, 53.0, 82.0, 93.0, 118.0, 164.0, 203.0, 251.0, 316.0, 367.0, 405.0, 475.0, 585.0, 717.0, 848.0, 993.0, 1094.0, 1215.0, 1378.0, 1510.0, 1688.0, 1890.0, 2143.0, 2439.0, 2785.0, 3181.0, 3441.0, 3844.0, 4219.0, 4661.0, 5014.0, 5399.0, 5847.0, 6297.0, 6875.0, 7497.0, 8261.0, 8772.0, 9501.0, 10544.0, 11633.0, 12872.0, 13842.0, 14677.0, 15529]\n"
     ]
    },
    {
     "data": {
      "text/plain": [
       "array([1.0000e+00, 4.0000e+00, 5.0000e+00, 5.0000e+00, 5.0000e+00,\n",
       "       5.0000e+00, 5.0000e+00, 6.0000e+00, 6.0000e+00, 7.0000e+00,\n",
       "       7.0000e+00, 7.0000e+00, 8.0000e+00, 1.2000e+01, 2.6000e+01,\n",
       "       4.1000e+01, 5.3000e+01, 8.2000e+01, 9.3000e+01, 1.1800e+02,\n",
       "       1.6400e+02, 2.0300e+02, 2.5100e+02, 3.1600e+02, 3.6700e+02,\n",
       "       4.0500e+02, 4.7500e+02, 5.8500e+02, 7.1700e+02, 8.4800e+02,\n",
       "       9.9300e+02, 1.0940e+03, 1.2150e+03, 1.3780e+03, 1.5100e+03,\n",
       "       1.6880e+03, 1.8900e+03, 2.1430e+03, 2.4390e+03, 2.7850e+03,\n",
       "       3.1810e+03, 3.4410e+03, 3.8440e+03, 4.2190e+03, 4.6610e+03,\n",
       "       5.0140e+03, 5.3990e+03, 5.8470e+03, 6.2970e+03, 6.8750e+03,\n",
       "       7.4970e+03, 8.2610e+03, 8.7720e+03, 9.5010e+03, 1.0544e+04,\n",
       "       1.1633e+04, 1.2872e+04, 1.3842e+04, 1.4677e+04, 1.5529e+04])"
      ]
     },
     "execution_count": 8,
     "metadata": {},
     "output_type": "execute_result"
    }
   ],
   "source": [
    "# Mexico corrección - Confirmados\n",
    "mex_list = list(country_info['mex'])\n",
    "mex_list.append(15529)\n",
    "print(mex_list)\n",
    "country_info['mex'] = np.array(mex_list)\n",
    "country_info['mex']"
   ]
  },
  {
   "cell_type": "code",
   "execution_count": null,
   "metadata": {},
   "outputs": [],
   "source": [
    "# Mexico corrección - Defunciones\n",
    "mex_list = list(country_info['mex'])#.append(848)\n",
    "mex_list.append(712)\n",
    "print(mex_list)\n",
    "country_info['mex'] = np.array(mex_list)\n",
    "country_info['mex']"
   ]
  },
  {
   "cell_type": "code",
   "execution_count": 9,
   "metadata": {},
   "outputs": [],
   "source": [
    "thr = 1\n",
    "days_forecast = 70"
   ]
  },
  {
   "cell_type": "code",
   "execution_count": 10,
   "metadata": {},
   "outputs": [],
   "source": [
    "country_factor = {}\n",
    "for k in country_info:\n",
    "    country_factor[k] = calcFactor(country_info[k][country_info[k] >= thr])\n",
    "#country_factor"
   ]
  },
  {
   "cell_type": "code",
   "execution_count": 11,
   "metadata": {},
   "outputs": [],
   "source": [
    "country_forecast = {}\n",
    "for k in country_factor:\n",
    "    country_forecast[k] = forecast(days_forecast, country_factor[k][1], thr)\n",
    "#country_forecast"
   ]
  },
  {
   "cell_type": "code",
   "execution_count": 12,
   "metadata": {},
   "outputs": [
    {
     "data": {
      "text/plain": [
       "array([1.0000e+00, 4.0000e+00, 5.0000e+00, 5.0000e+00, 5.0000e+00,\n",
       "       5.0000e+00, 5.0000e+00, 6.0000e+00, 6.0000e+00, 7.0000e+00,\n",
       "       7.0000e+00, 7.0000e+00, 8.0000e+00, 1.2000e+01, 2.6000e+01,\n",
       "       4.1000e+01, 5.3000e+01, 8.2000e+01, 9.3000e+01, 1.1800e+02,\n",
       "       1.6400e+02, 2.0300e+02, 2.5100e+02, 3.1600e+02, 3.6700e+02,\n",
       "       4.0500e+02, 4.7500e+02, 5.8500e+02, 7.1700e+02, 8.4800e+02,\n",
       "       9.9300e+02, 1.0940e+03, 1.2150e+03, 1.3780e+03, 1.5100e+03,\n",
       "       1.6880e+03, 1.8900e+03, 2.1430e+03, 2.4390e+03, 2.7850e+03,\n",
       "       3.1810e+03, 3.4410e+03, 3.8440e+03, 4.2190e+03, 4.6610e+03,\n",
       "       5.0140e+03, 5.3990e+03, 5.8470e+03, 6.2970e+03, 6.8750e+03,\n",
       "       7.4970e+03, 8.2610e+03, 8.7720e+03, 9.5010e+03, 1.0544e+04,\n",
       "       1.1633e+04, 1.2872e+04, 1.3842e+04, 1.4677e+04, 1.5529e+04])"
      ]
     },
     "execution_count": 12,
     "metadata": {},
     "output_type": "execute_result"
    }
   ],
   "source": [
    "total_days = 100\n",
    "xts = np.arange(0,total_days,7)\n",
    "\n",
    "mexi = country_info['mex'][country_info['mex'] >= thr]\n",
    "mexi_max = ceil(np.max(mexi / 1000)) * 1000\n",
    "mexi"
   ]
  },
  {
   "cell_type": "code",
   "execution_count": 14,
   "metadata": {
    "scrolled": false
   },
   "outputs": [
    {
     "data": {
      "image/png": "[encoded data removed]",
      "text/plain": [
       "<Figure size 1008x504 with 1 Axes>"
      ]
     },
     "metadata": {
      "needs_background": "light"
     },
     "output_type": "display_data"
    }
   ],
   "source": [
    "\n",
    "fig = plt.figure(figsize=(14,7))\n",
    "for k in country_info:\n",
    "#    print(k, sep='\\t')\n",
    "    pais = country_info[k][country_info[k] >= thr]\n",
    "    xp = [x for x in range(1,len(pais)+1)]\n",
    "    par = {'marker':'', 'lw':'-', 'lw':6.00, 'c':country_color[k], 'label':k}\n",
    "    pars = {'marker':'o', 's':30.0, 'c':'k'}#country_color[k]}\n",
    "    if k != 'mex':\n",
    "        plt.scatter(xp[-2:], pais[-2:], **pars)\n",
    "#        plt.scatter(xp, pais, **pars)\n",
    "        plt.plot(xp, pais, **par)\n",
    "#        plt.text(x = xp[-1], y = pais[-1], c = country_color[k], s = k, weight = 'bold')\n",
    "    \n",
    "xp = [x for x in range(1,len(mexi)+1)]\n",
    "par = {'marker':'o', 'lw':'-', 'lw':3.00, 'c':'k', 'label':'mex'}\n",
    "plt.plot(xp, mexi, **par)\n",
    "\n",
    "plt.plot(country_forecast['mex'],'--', lw = 2.0, c = 'k', label = 'México predicción')\n",
    "plt.plot(country_forecast['usa'],'--', lw = 2.0, c = 'b', label = 'USA predicción')\n",
    "#plt.plot(country_forecast['ecu'],'--', lw = 2.0, c = 'gray', label = 'Ecuador predicción')\n",
    "\n",
    "plt.xlim([1,total_days])#1 * len(Italy)])\n",
    "plt.ylim([thr-0.1,mexi_max])\n",
    "plt.xlabel('Días')\n",
    "#plt.ylabel('Casos confirmados COVID-19')\n",
    "plt.ylabel('Defunciones COVID-19')\n",
    "#plt.yscale('log')\n",
    "plt.xticks(ticks=xts, labels=xts)#, rotation='vertical')\n",
    "plt.minorticks_on()\n",
    "plt.legend()\n",
    "plt.grid(color='#d4d4d4')\n",
    "plt.title('Confirmados con COVID-19 a partir del caso 1')\n",
    "#plt.title('Defunciones desde el primer registro ...')\n",
    "#plt.savefig('Confirmados290320_02_.png')\n",
    "#plt.savefig('Defunciones290320.png')\n",
    "plt.show()"
   ]
  },
  {
   "cell_type": "code",
   "execution_count": null,
   "metadata": {},
   "outputs": [],
   "source": []
  },
  {
   "cell_type": "code",
   "execution_count": null,
   "metadata": {},
   "outputs": [],
   "source": []
  }
 ],
 "metadata": {
  "kernelspec": {
   "display_name": "Python 3",
   "language": "python",
   "name": "python3"
  },
  "language_info": {
   "codemirror_mode": {
    "name": "ipython",
    "version": 3
   },
   "file_extension": ".py",
   "mimetype": "text/x-python",
   "name": "python",
   "nbconvert_exporter": "python",
   "pygments_lexer": "ipython3",
   "version": "3.7.6"
  }
 },
 "nbformat": 4,
 "nbformat_minor": 4
}
