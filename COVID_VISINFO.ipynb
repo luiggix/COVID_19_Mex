{
 "cells": [
  {
   "cell_type": "code",
   "execution_count": 1,
   "metadata": {},
   "outputs": [],
   "source": [
    "import numpy as np\n",
    "import matplotlib.pyplot as plt\n",
    "%matplotlib inline\n",
    "import pandas as pd "
   ]
  },
  {
   "cell_type": "code",
   "execution_count": 2,
   "metadata": {},
   "outputs": [
    {
     "data": {
      "text/html": [
       "<div>\n",
       "<style scoped>\n",
       "    .dataframe tbody tr th:only-of-type {\n",
       "        vertical-align: middle;\n",
       "    }\n",
       "\n",
       "    .dataframe tbody tr th {\n",
       "        vertical-align: top;\n",
       "    }\n",
       "\n",
       "    .dataframe thead th {\n",
       "        text-align: right;\n",
       "    }\n",
       "</style>\n",
       "<table border=\"1\" class=\"dataframe\">\n",
       "  <thead>\n",
       "    <tr style=\"text-align: right;\">\n",
       "      <th></th>\n",
       "      <th>Province/State</th>\n",
       "      <th>Country/Region</th>\n",
       "      <th>Lat</th>\n",
       "      <th>Long</th>\n",
       "      <th>1/22/20</th>\n",
       "      <th>1/23/20</th>\n",
       "      <th>1/24/20</th>\n",
       "      <th>1/25/20</th>\n",
       "      <th>1/26/20</th>\n",
       "      <th>1/27/20</th>\n",
       "      <th>...</th>\n",
       "      <th>3/12/20</th>\n",
       "      <th>3/13/20</th>\n",
       "      <th>3/14/20</th>\n",
       "      <th>3/15/20</th>\n",
       "      <th>3/16/20</th>\n",
       "      <th>3/17/20</th>\n",
       "      <th>3/18/20</th>\n",
       "      <th>3/19/20</th>\n",
       "      <th>3/20/20</th>\n",
       "      <th>3/21/20</th>\n",
       "    </tr>\n",
       "  </thead>\n",
       "  <tbody>\n",
       "    <tr>\n",
       "      <th>46</th>\n",
       "      <td>NaN</td>\n",
       "      <td>Mexico</td>\n",
       "      <td>23.6345</td>\n",
       "      <td>-102.5528</td>\n",
       "      <td>0</td>\n",
       "      <td>0</td>\n",
       "      <td>0</td>\n",
       "      <td>0</td>\n",
       "      <td>0</td>\n",
       "      <td>0</td>\n",
       "      <td>...</td>\n",
       "      <td>12</td>\n",
       "      <td>12</td>\n",
       "      <td>26</td>\n",
       "      <td>41</td>\n",
       "      <td>53</td>\n",
       "      <td>82</td>\n",
       "      <td>93</td>\n",
       "      <td>118</td>\n",
       "      <td>164</td>\n",
       "      <td>203</td>\n",
       "    </tr>\n",
       "  </tbody>\n",
       "</table>\n",
       "<p>1 rows × 64 columns</p>\n",
       "</div>"
      ],
      "text/plain": [
       "   Province/State Country/Region      Lat      Long  1/22/20  1/23/20  \\\n",
       "46            NaN         Mexico  23.6345 -102.5528        0        0   \n",
       "\n",
       "    1/24/20  1/25/20  1/26/20  1/27/20  ...  3/12/20  3/13/20  3/14/20  \\\n",
       "46        0        0        0        0  ...       12       12       26   \n",
       "\n",
       "    3/15/20  3/16/20  3/17/20  3/18/20  3/19/20  3/20/20  3/21/20  \n",
       "46       41       53       82       93      118      164      203  \n",
       "\n",
       "[1 rows x 64 columns]"
      ]
     },
     "execution_count": 2,
     "metadata": {},
     "output_type": "execute_result"
    }
   ],
   "source": [
    "corvid = pd.read_csv('time_series_19-covid-Confirmed.csv')\n",
    "corvid.loc[[46]]"
   ]
  },
  {
   "cell_type": "code",
   "execution_count": 3,
   "metadata": {},
   "outputs": [
    {
     "name": "stdout",
     "output_type": "stream",
     "text": [
      "155 Iran\n"
     ]
    }
   ],
   "source": [
    "for i, p in enumerate(corvid['Country/Region']):\n",
    "    if p == 'Iran':\n",
    "        print(i,p)"
   ]
  },
  {
   "cell_type": "code",
   "execution_count": 4,
   "metadata": {},
   "outputs": [],
   "source": [
    "def getConfirmed(data, country_id):\n",
    "    country = corvid.loc[[country_id]]\n",
    "    dummy = country.values[0][4:]\n",
    "    confirmed_array =  dummy[dummy > 0]\n",
    "    return confirmed_array "
   ]
  },
  {
   "cell_type": "code",
   "execution_count": 5,
   "metadata": {},
   "outputs": [],
   "source": [
    "def calcFactor(x):\n",
    "    suma = 0\n",
    "    N = len(x)\n",
    "    for i,p in enumerate(range(N-1)):\n",
    "        suma +=  x[i+1]/x[i]\n",
    "    \n",
    "    F = suma / (N - 1)\n",
    "    return N, F"
   ]
  },
  {
   "cell_type": "code",
   "execution_count": 6,
   "metadata": {},
   "outputs": [],
   "source": [
    "def forecast(days, factor, start):\n",
    "    xp = [start]\n",
    "    for i in range(1,days):\n",
    "        xp.append(xp[i-1] * factor)\n",
    "    return xp"
   ]
  },
  {
   "cell_type": "code",
   "execution_count": 7,
   "metadata": {},
   "outputs": [
    {
     "data": {
      "text/plain": [
       "array([1, 4, 5, 5, 5, 5, 5, 6, 6, 7, 7, 7, 8, 12, 12, 26, 41, 53, 82, 93,\n",
       "       118, 164, 203], dtype=object)"
      ]
     },
     "execution_count": 7,
     "metadata": {},
     "output_type": "execute_result"
    }
   ],
   "source": [
    "Mexico = getConfirmed(corvid, 46)\n",
    "Mexico"
   ]
  },
  {
   "cell_type": "code",
   "execution_count": 8,
   "metadata": {},
   "outputs": [],
   "source": [
    "mex_list = list(Mexico)\n",
    "mex_list.append(251)\n",
    "mex_list.append(316)\n",
    "Mexico = np.array(mex_list)"
   ]
  },
  {
   "cell_type": "code",
   "execution_count": 9,
   "metadata": {},
   "outputs": [
    {
     "data": {
      "text/plain": [
       "array([  1,   4,   5,   5,   5,   5,   5,   6,   6,   7,   7,   7,   8,\n",
       "        12,  12,  26,  41,  53,  82,  93, 118, 164, 203, 251, 316])"
      ]
     },
     "execution_count": 9,
     "metadata": {},
     "output_type": "execute_result"
    }
   ],
   "source": [
    "Mexico"
   ]
  },
  {
   "cell_type": "code",
   "execution_count": 10,
   "metadata": {},
   "outputs": [
    {
     "data": {
      "text/plain": [
       "array([1, 1, 1, 1, 1, 1, 1, 1, 2, 2, 2, 2, 2, 2, 2, 2, 2, 2, 2, 2, 2, 2,\n",
       "       2, 2, 6, 13, 15, 32, 45, 84, 120, 165, 222, 259, 400, 500, 673,\n",
       "       1073, 1695, 2277, 2277, 5232, 6391, 7798, 9942, 11748, 13910,\n",
       "       17963, 20410, 25374], dtype=object)"
      ]
     },
     "execution_count": 10,
     "metadata": {},
     "output_type": "execute_result"
    }
   ],
   "source": [
    "Spain = getConfirmed(corvid, 18)\n",
    "Spain"
   ]
  },
  {
   "cell_type": "code",
   "execution_count": 11,
   "metadata": {},
   "outputs": [
    {
     "data": {
      "text/plain": [
       "array([2, 2, 2, 2, 2, 2, 2, 3, 3, 3, 3, 3, 3, 3, 3, 3, 3, 3, 3, 3, 3, 20,\n",
       "       62, 155, 229, 322, 453, 655, 888, 1128, 1694, 2036, 2502, 3089,\n",
       "       3858, 4636, 5883, 7375, 9172, 10149, 12462, 12462, 17660, 21157,\n",
       "       24747, 27980, 31506, 35713, 41035, 47021, 53578], dtype=object)"
      ]
     },
     "execution_count": 11,
     "metadata": {},
     "output_type": "execute_result"
    }
   ],
   "source": [
    "Italy = getConfirmed(corvid, 16)\n",
    "Italy"
   ]
  },
  {
   "cell_type": "code",
   "execution_count": 12,
   "metadata": {},
   "outputs": [
    {
     "data": {
      "text/plain": [
       "51"
      ]
     },
     "execution_count": 12,
     "metadata": {},
     "output_type": "execute_result"
    }
   ],
   "source": [
    "len(Italy)"
   ]
  },
  {
   "cell_type": "code",
   "execution_count": 13,
   "metadata": {},
   "outputs": [
    {
     "data": {
      "text/plain": [
       "array([1, 4, 4, 4, 5, 8, 10, 12, 12, 12, 12, 13, 13, 14, 14, 16, 16, 16,\n",
       "       16, 16, 16, 16, 16, 16, 16, 16, 16, 16, 16, 17, 27, 46, 48, 79,\n",
       "       130, 159, 196, 262, 482, 670, 799, 1040, 1176, 1457, 1908, 2078,\n",
       "       3675, 4585, 5795, 7272, 9257, 12327, 15320, 19848, 22213],\n",
       "      dtype=object)"
      ]
     },
     "execution_count": 13,
     "metadata": {},
     "output_type": "execute_result"
    }
   ],
   "source": [
    "Germany = getConfirmed(corvid, 11)\n",
    "Germany"
   ]
  },
  {
   "cell_type": "code",
   "execution_count": 35,
   "metadata": {},
   "outputs": [],
   "source": [
    "thr = 1\n",
    "days_forecast = 100"
   ]
  },
  {
   "cell_type": "code",
   "execution_count": 36,
   "metadata": {},
   "outputs": [],
   "source": [
    "mex_days, mex_factor = calcFactor(Mexico[Mexico >= thr])\n",
    "spa_days, spa_factor = calcFactor(Spain[Spain >= thr])\n",
    "ita_days, ita_factor = calcFactor(Italy[Italy >= thr])\n",
    "ger_days, ger_factor = calcFactor(Germany[Germany >= thr])"
   ]
  },
  {
   "cell_type": "code",
   "execution_count": 37,
   "metadata": {},
   "outputs": [],
   "source": [
    "mex_future = forecast(days_forecast, mex_factor, thr)#Mexico[0])\n",
    "spa_future = forecast(days_forecast, spa_factor, thr)#Spain[0])\n",
    "ita_future = forecast(days_forecast, ita_factor, thr)#Italy[0])\n",
    "ger_future = forecast(days_forecast, ger_factor, thr)#Italy[0])"
   ]
  },
  {
   "cell_type": "code",
   "execution_count": 41,
   "metadata": {},
   "outputs": [],
   "source": [
    "total_days = 50\n",
    "xts = np.arange(0,total_days,5)"
   ]
  },
  {
   "cell_type": "code",
   "execution_count": 42,
   "metadata": {},
   "outputs": [
    {
     "data": {
      "text/plain": [
       "array([  1,   4,   5,   5,   5,   5,   5,   6,   6,   7,   7,   7,   8,\n",
       "        12,  12,  26,  41,  53,  82,  93, 118, 164, 203, 251, 316])"
      ]
     },
     "execution_count": 42,
     "metadata": {},
     "output_type": "execute_result"
    }
   ],
   "source": [
    "Mexico[Mexico >= thr]"
   ]
  },
  {
   "cell_type": "code",
   "execution_count": 43,
   "metadata": {},
   "outputs": [
    {
     "data": {
      "text/plain": [
       "Text(0.5, 1.0, 'A partir de 20 o más casos confirmados, modelo exponencial - futuro (semi-log)')"
      ]
     },
     "execution_count": 43,
     "metadata": {},
     "output_type": "execute_result"
    },
    {
     "data": {
      "image/png": "[encoded data removed]",
      "text/plain": [
       "<Figure size 720x360 with 1 Axes>"
      ]
     },
     "metadata": {
      "needs_background": "light"
     },
     "output_type": "display_data"
    }
   ],
   "source": [
    "fig = plt.figure(figsize=(10,5))\n",
    "it = Italy[Italy >= thr]\n",
    "sp = Spain[Spain >= thr]\n",
    "gr = Germany[Germany >= thr]\n",
    "mx = Mexico[Mexico >= thr]\n",
    "\n",
    "plt.plot([x for x in range(1, len(it)+1)], it,'s-', lw = 3.00, c ='lightsteelblue', label ='Italia')\n",
    "#plt.plot(ita_future,'-', lw = 1.0, c ='lightsteelblue', label = 'Italia exp.')\n",
    "\n",
    "plt.plot([x for x in range(1, len(sp)+1)], sp,'s-', lw = 3.00, c = 'silver', label ='España')\n",
    "#plt.plot(spa_future,'-', lw = 1.0, c = 'silver', label = 'España exp.')\n",
    "\n",
    "plt.plot([x for x in range(1, len(gr)+1)], gr,'s-', lw = 3.00, c = 'pink', label = 'Alemania')\n",
    "#plt.plot(ger_future,'-', lw = 1.0, c = 'pink', label = 'Alemania exp.')\n",
    "\n",
    "plt.plot([x for x in range(1, len(mx)+1)], mx,'o-', lw = 2.00, c='k', label = 'México')\n",
    "plt.plot(mex_future,'-', lw = 1.0, c = 'k', label = 'México exp.')\n",
    "\n",
    "plt.xlim([1,total_days])#1 * len(Italy)])\n",
    "plt.ylim([thr,500])\n",
    "plt.xlabel('Días')\n",
    "plt.ylabel('Casos confirmados COVID-19')\n",
    "#plt.yscale('log')\n",
    "plt.xticks(ticks=xts, labels=xts)#, rotation='vertical')\n",
    "plt.minorticks_on()\n",
    "plt.legend()\n",
    "plt.grid()\n",
    "plt.title('A partir de 20 o más casos confirmados, modelo exponencial - futuro (semi-log)')\n",
    "#plt.savefig('fig08.pdf')"
   ]
  },
  {
   "cell_type": "code",
   "execution_count": null,
   "metadata": {},
   "outputs": [],
   "source": []
  },
  {
   "cell_type": "code",
   "execution_count": null,
   "metadata": {},
   "outputs": [],
   "source": []
  }
 ],
 "metadata": {
  "kernelspec": {
   "display_name": "Python 3",
   "language": "python",
   "name": "python3"
  },
  "language_info": {
   "codemirror_mode": {
    "name": "ipython",
    "version": 3
   },
   "file_extension": ".py",
   "mimetype": "text/x-python",
   "name": "python",
   "nbconvert_exporter": "python",
   "pygments_lexer": "ipython3",
   "version": "3.7.6"
  }
 },
 "nbformat": 4,
 "nbformat_minor": 4
}
